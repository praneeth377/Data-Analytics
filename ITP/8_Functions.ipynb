{
 "cells": [
  {
   "cell_type": "code",
   "execution_count": 1,
   "metadata": {},
   "outputs": [
    {
     "data": {
      "text/plain": [
       "10"
      ]
     },
     "execution_count": 1,
     "metadata": {},
     "output_type": "execute_result"
    }
   ],
   "source": [
    "l2 = [1,2,3,4]\n",
    "sum(l2)"
   ]
  },
  {
   "cell_type": "code",
   "execution_count": 2,
   "metadata": {},
   "outputs": [
    {
     "data": {
      "text/plain": [
       "['apple', 'kiwi', 'mango', 'banana', 'orange']"
      ]
     },
     "execution_count": 2,
     "metadata": {},
     "output_type": "execute_result"
    }
   ],
   "source": [
    "abs(-99.34)\n",
    "l1 = [1,2,3,4,5,6,7,8,9]\n",
    "sum(l1)\n",
    "str1 = 'I am Praneeth'\n",
    "s = 'apple,kiwi,mango,banana,orange'\n",
    "s.split(',')"
   ]
  },
  {
   "cell_type": "code",
   "execution_count": 2,
   "metadata": {},
   "outputs": [
    {
     "data": {
      "text/plain": [
       "9.0"
      ]
     },
     "execution_count": 2,
     "metadata": {},
     "output_type": "execute_result"
    }
   ],
   "source": [
    "def twice(x):\n",
    "    return 2*x\n",
    "\n",
    "twice(4.5)\n",
    "\n",
    "def input_twice():\n",
    "    n = float(input('Enter the number: '))\n",
    "    return 2*n\n",
    "input_twice()"
   ]
  },
  {
   "cell_type": "code",
   "execution_count": null,
   "metadata": {},
   "outputs": [
    {
     "name": "stdout",
     "output_type": "stream",
     "text": [
      "Hi Praneeth\n"
     ]
    },
    {
     "data": {
      "text/plain": [
       "'Hi Praneeth'"
      ]
     },
     "execution_count": 4,
     "metadata": {},
     "output_type": "execute_result"
    }
   ],
   "source": [
    "def Hi():\n",
    "    str = input('Enter your Name: ')\n",
    "    print(\"Hi\",str)\n",
    "    return f\"Hi {str}\"\n",
    "Hi()"
   ]
  },
  {
   "cell_type": "code",
   "execution_count": null,
   "metadata": {},
   "outputs": [
    {
     "data": {
      "text/plain": [
       "82.33"
      ]
     },
     "execution_count": 5,
     "metadata": {},
     "output_type": "execute_result"
    }
   ],
   "source": [
    "def avg(x):\n",
    "    return sum(x)/len(x)\n",
    "list = [35,35,-78,7,-435,-23,789,66,345]\n",
    "#float(f\"{avg(list):.3f}\")\n",
    "round(avg(list),2)"
   ]
  },
  {
   "cell_type": "code",
   "execution_count": null,
   "metadata": {},
   "outputs": [
    {
     "data": {
      "text/plain": [
       "[44, 45, 56, 32, 54, 87]"
      ]
     },
     "execution_count": 6,
     "metadata": {},
     "output_type": "execute_result"
    }
   ],
   "source": [
    "def unique_list(x):         # list1 = [44,45,56,44,32,54,44,56,44,87,44,56]\n",
    "    list2 = []\n",
    "    list2.append(x[0])\n",
    "    for i in list1:\n",
    "        if i in list2:\n",
    "            continue\n",
    "        list2.append(i)\n",
    "    return list2\n",
    "list1 = [44,45,56,44,32,54,44,56,44,87,44,56]\n",
    "unique_list(list1)"
   ]
  },
  {
   "cell_type": "code",
   "execution_count": null,
   "metadata": {},
   "outputs": [
    {
     "data": {
      "text/plain": [
       "'ecneicSataD'"
      ]
     },
     "execution_count": 7,
     "metadata": {},
     "output_type": "execute_result"
    }
   ],
   "source": [
    "def reverse(x):\n",
    "    s = ''\n",
    "    for i in x:\n",
    "        s = i + s\n",
    "    return s\n",
    "reverse('DataScience')"
   ]
  },
  {
   "cell_type": "code",
   "execution_count": null,
   "metadata": {},
   "outputs": [
    {
     "name": "stdout",
     "output_type": "stream",
     "text": [
      "8 X 1 = 8\n",
      "8 X 2 = 16\n",
      "8 X 3 = 24\n",
      "8 X 4 = 32\n",
      "8 X 5 = 40\n",
      "8 X 6 = 48\n",
      "8 X 7 = 56\n",
      "8 X 8 = 64\n",
      "8 X 9 = 72\n",
      "8 X 10 = 80\n"
     ]
    }
   ],
   "source": [
    "def table(x):\n",
    "    sum = 1\n",
    "    for i in range(1,11):\n",
    "        print(x,'X',i,'=',x*i)\n",
    "table(8)\n"
   ]
  },
  {
   "cell_type": "code",
   "execution_count": null,
   "metadata": {},
   "outputs": [
    {
     "name": "stdout",
     "output_type": "stream",
     "text": [
      "4 0 0 \n",
      "0 4 0 \n",
      "0 0 4 \n"
     ]
    }
   ],
   "source": [
    "def scalar_identity(n1,n2):\n",
    "    for i in range(0,n1):\n",
    "        for j in range(0,n1):\n",
    "            if i==j:\n",
    "                print(n2, end=' ')\n",
    "            else:\n",
    "                print(0, end=' ')\n",
    "        print()\n",
    "scalar_identity(3,4) "
   ]
  },
  {
   "cell_type": "code",
   "execution_count": null,
   "metadata": {},
   "outputs": [
    {
     "name": "stdout",
     "output_type": "stream",
     "text": [
      "3 2 4 35 6 5 756 4 323 42 "
     ]
    }
   ],
   "source": [
    "def var_func(*args):\n",
    "    for i in args:\n",
    "        print(i, end=' ')\n",
    "var_func(3,2,4,35,6,5,756,4,323,42)"
   ]
  },
  {
   "cell_type": "code",
   "execution_count": null,
   "metadata": {},
   "outputs": [
    {
     "name": "stdout",
     "output_type": "stream",
     "text": [
      "{'A': 10, 'B': 20, 'C': 30}\n",
      "John 46 \n",
      "Name - John Age - 46 "
     ]
    }
   ],
   "source": [
    "def KvarFunc(**kwargs):\n",
    "    print(kwargs)\n",
    "KvarFunc(A = 10, B = 20, C = 30)\n",
    "\n",
    "def Values_Kwargs(**kwargs):\n",
    "    for i in kwargs.values():\n",
    "        print(i, end=' ')\n",
    "Values_Kwargs(Name = 'John', Age = 46)\n",
    "print()\n",
    "def myFunc(**kwargs):\n",
    "    for i,j in kwargs.items():\n",
    "        print(i,'-',j, end = ' ')\n",
    "myFunc(Name = 'John', Age = 46)"
   ]
  },
  {
   "cell_type": "markdown",
   "metadata": {},
   "source": [
    "Recursive Functions"
   ]
  },
  {
   "cell_type": "code",
   "execution_count": null,
   "metadata": {},
   "outputs": [
    {
     "data": {
      "text/plain": [
       "96"
      ]
     },
     "execution_count": 12,
     "metadata": {},
     "output_type": "execute_result"
    }
   ],
   "source": [
    "def sum(x):\n",
    "    if len(x) == 0:\n",
    "        return 0\n",
    "    last_num = x.pop()\n",
    "    return last_num+sum(x)\n",
    "list_num = [12,3,4,37,6,34]\n",
    "sum(list_num)"
   ]
  },
  {
   "cell_type": "code",
   "execution_count": null,
   "metadata": {},
   "outputs": [
    {
     "data": {
      "text/plain": [
       "120"
      ]
     },
     "execution_count": 13,
     "metadata": {},
     "output_type": "execute_result"
    }
   ],
   "source": [
    "def factorial(n):\n",
    "    if n == 1:\n",
    "        return 1\n",
    "    return n*factorial(n-1)\n",
    "factorial(5)"
   ]
  },
  {
   "cell_type": "code",
   "execution_count": null,
   "metadata": {},
   "outputs": [
    {
     "name": "stdout",
     "output_type": "stream",
     "text": [
      "0 1 1 2 3 5 8 13 21 34 55 89 144 233 377 "
     ]
    }
   ],
   "source": [
    "def fib(x):\n",
    "    if x == 0:\n",
    "        return 0\n",
    "    if x == 1:\n",
    "        return 1\n",
    "    return fib(x-1) + fib(x-2)\n",
    "for i in range(15):\n",
    "    print(fib(i), end=' ')"
   ]
  },
  {
   "cell_type": "code",
   "execution_count": null,
   "metadata": {},
   "outputs": [
    {
     "data": {
      "text/plain": [
       "30"
      ]
     },
     "execution_count": 15,
     "metadata": {},
     "output_type": "execute_result"
    }
   ],
   "source": [
    "x = 10\n",
    "def sum():\n",
    "    global x\n",
    "    y = 20\n",
    "    return x+y\n",
    "sum()"
   ]
  },
  {
   "cell_type": "markdown",
   "metadata": {},
   "source": [
    "Lambda Functions"
   ]
  },
  {
   "cell_type": "code",
   "execution_count": null,
   "metadata": {},
   "outputs": [
    {
     "data": {
      "text/plain": [
       "15"
      ]
     },
     "execution_count": 16,
     "metadata": {},
     "output_type": "execute_result"
    }
   ],
   "source": [
    "min_val = lambda x,y : x if x<y else y\n",
    "min_val(15,30)"
   ]
  },
  {
   "cell_type": "code",
   "execution_count": null,
   "metadata": {},
   "outputs": [
    {
     "data": {
      "text/plain": [
       "'Not Equal'"
      ]
     },
     "execution_count": 17,
     "metadata": {},
     "output_type": "execute_result"
    }
   ],
   "source": [
    "b = lambda x,y : 'Equal' if x==y else 'Not Equal'\n",
    "b('Python','python')"
   ]
  },
  {
   "cell_type": "code",
   "execution_count": null,
   "metadata": {},
   "outputs": [
    {
     "name": "stdout",
     "output_type": "stream",
     "text": [
      "[44.44, 51.11, 75.56, 100.0, 73.33, 22.22, 95.56, 51.11, 60.0, 75.56, 82.22, 97.78, 93.33, 95.56]\n"
     ]
    }
   ],
   "source": [
    "marks = [20,23,34,45,33,10,43,23,27,34,37,44,42,43]\n",
    "a = list(map(lambda x: round((x/45)*100,2), marks))\n",
    "print(a)"
   ]
  },
  {
   "cell_type": "code",
   "execution_count": null,
   "metadata": {},
   "outputs": [
    {
     "data": {
      "text/plain": [
       "[42, 40, 110]"
      ]
     },
     "execution_count": 4,
     "metadata": {},
     "output_type": "execute_result"
    }
   ],
   "source": [
    "list_a = [30,35,40]\n",
    "list_b = [12,5,70]\n",
    "list(map(lambda x,y : x+y, list_a, list_b))"
   ]
  },
  {
   "cell_type": "code",
   "execution_count": null,
   "metadata": {},
   "outputs": [
    {
     "data": {
      "text/plain": [
       "[1,\n",
       " 27,\n",
       " 125,\n",
       " 343,\n",
       " 729,\n",
       " 1331,\n",
       " 2197,\n",
       " 3375,\n",
       " 4913,\n",
       " 6859,\n",
       " 9261,\n",
       " 12167,\n",
       " 15625,\n",
       " 19683,\n",
       " 24389,\n",
       " 29791,\n",
       " 35937,\n",
       " 42875,\n",
       " 50653,\n",
       " 59319,\n",
       " 68921,\n",
       " 79507,\n",
       " 91125,\n",
       " 103823,\n",
       " 117649]"
      ]
     },
     "execution_count": 10,
     "metadata": {},
     "output_type": "execute_result"
    }
   ],
   "source": [
    "def cube(x):\n",
    "    return x**3\n",
    "def odd(x):\n",
    "    if x%2 != 0:\n",
    "        return x\n",
    "list(map(cube,filter(odd, range(1,51))))"
   ]
  },
  {
   "cell_type": "code",
   "execution_count": null,
   "metadata": {},
   "outputs": [
    {
     "data": {
      "text/plain": [
       "[1,\n",
       " 27,\n",
       " 125,\n",
       " 343,\n",
       " 729,\n",
       " 1331,\n",
       " 2197,\n",
       " 3375,\n",
       " 4913,\n",
       " 6859,\n",
       " 9261,\n",
       " 12167,\n",
       " 15625,\n",
       " 19683,\n",
       " 24389,\n",
       " 29791,\n",
       " 35937,\n",
       " 42875,\n",
       " 50653,\n",
       " 59319,\n",
       " 68921,\n",
       " 79507,\n",
       " 91125,\n",
       " 103823,\n",
       " 117649]"
      ]
     },
     "execution_count": 15,
     "metadata": {},
     "output_type": "execute_result"
    }
   ],
   "source": [
    "[cube(i) for i in range(1,51) if odd(i)]"
   ]
  },
  {
   "cell_type": "code",
   "execution_count": null,
   "metadata": {},
   "outputs": [
    {
     "data": {
      "text/plain": [
       "[11, 13, 17, 19, 23, 29]"
      ]
     },
     "execution_count": 6,
     "metadata": {},
     "output_type": "execute_result"
    }
   ],
   "source": [
    "def isprime(x):              # Beautiful !!\n",
    "    list = []\n",
    "    for i in range(2,x):\n",
    "        if x%i == 0:\n",
    "            list.append(i)\n",
    "    \n",
    "    if len(list) == 0:\n",
    "        return x\n",
    "    \n",
    "a = filter(isprime,range(10,30))\n",
    "list(a)"
   ]
  },
  {
   "cell_type": "code",
   "execution_count": null,
   "metadata": {},
   "outputs": [
    {
     "data": {
      "text/plain": [
       "385730"
      ]
     },
     "execution_count": 17,
     "metadata": {},
     "output_type": "execute_result"
    }
   ],
   "source": [
    "from functools import reduce\n",
    "sale = [14565,65460,74450,54546,23245,14543,84355,54566]\n",
    "reduce(lambda x,y : x+y, sale)"
   ]
  },
  {
   "cell_type": "code",
   "execution_count": null,
   "metadata": {},
   "outputs": [
    {
     "data": {
      "text/plain": [
       "120"
      ]
     },
     "execution_count": 18,
     "metadata": {},
     "output_type": "execute_result"
    }
   ],
   "source": [
    "num = [i for i in range(1,6)]\n",
    "reduce(lambda x,y : x*y, num)"
   ]
  },
  {
   "cell_type": "code",
   "execution_count": null,
   "metadata": {},
   "outputs": [
    {
     "data": {
      "text/plain": [
       "[1, 3, 6, 10, 15, 21]"
      ]
     },
     "execution_count": 19,
     "metadata": {},
     "output_type": "execute_result"
    }
   ],
   "source": [
    "from itertools import accumulate\n",
    "list(accumulate(range(1,7), lambda x,y : x+y))    # Cumulative Addition"
   ]
  },
  {
   "cell_type": "code",
   "execution_count": null,
   "metadata": {},
   "outputs": [
    {
     "name": "stdout",
     "output_type": "stream",
     "text": [
      "No. of gifts: 142\n"
     ]
    }
   ],
   "source": [
    "n1 = int(input('1st case: '))\n",
    "k1 = int(input(f\"How many are remaining if {n1} are distributed: \"))\n",
    "n2 = int(input('2nd case: '))\n",
    "k2 = int(input(f\"How many are remaining if {n2} are distributed: \"))\n",
    "n3 = int(input('3rd case: '))\n",
    "k3 = int(input(f\"How many are remaining if {n3} are distributed: \"))\n",
    "\"\"\"\n",
    "list1 = [i for i in range (n1+k1,200,n1)]\n",
    "list2 = [i for i in range (n2+k2,200,n2)]\n",
    "list3 = [i for i in range (n3+k3,200,n3)]\n",
    "for i in list1:\n",
    "    if i in list2:\n",
    "        if i in list3:\n",
    "            print('No. of gifts:',i)\n",
    "\"\"\"\n",
    "for i in range(1,201):\n",
    "    if (i%n1 == k1) and (i%n2 == k2) and (i%n3 == k3):\n",
    "         print('No. of gifts:',i)"
   ]
  },
  {
   "cell_type": "code",
   "execution_count": null,
   "metadata": {},
   "outputs": [
    {
     "data": {
      "text/plain": [
       "{'c': 7, 'a': 5, 'b': 3}"
      ]
     },
     "execution_count": 42,
     "metadata": {},
     "output_type": "execute_result"
    }
   ],
   "source": [
    "dict = {'a':5,'b':3,'c':7}\n",
    "dict2 = { i:j for i,j in sorted(dict.items(), key=lambda x:x[-1],reverse = True)}\n",
    "dict2"
   ]
  },
  {
   "cell_type": "code",
   "execution_count": null,
   "metadata": {},
   "outputs": [
    {
     "data": {
      "text/plain": [
       "[(0, '1'), (1, '2'), (2, '3')]"
      ]
     },
     "execution_count": 2,
     "metadata": {},
     "output_type": "execute_result"
    }
   ],
   "source": [
    "def num(*kwargs):\n",
    "    return enumerate(*kwargs)\n",
    "list(num(('123')))"
   ]
  },
  {
   "cell_type": "code",
   "execution_count": null,
   "metadata": {},
   "outputs": [
    {
     "name": "stdout",
     "output_type": "stream",
     "text": [
      "False True\n"
     ]
    }
   ],
   "source": [
    "f=lambda x:bool(x%2)\n",
    "\n",
    "print(f(20), f(21))"
   ]
  },
  {
   "cell_type": "markdown",
   "metadata": {},
   "source": [
    "1. Write a Python program to check the validity of a debit card.\n",
    "\n",
    "a) Verify and ensure that the length of the debit card is 14.\n",
    "\n",
    "b) Verify that the year printed on the debit card should be either 2020 or greater than 2020. If the year is less than 2020, user should get a message that the card expired.\n",
    "\n",
    "c) Verify that the month number printed in the card should be between 1 and 12. Any number less than 1 and any number greater than 12 should be invalid.\n",
    "\n",
    "d) Enter the CVV number printed on the debit card and ensure that the length is neither less than 3 nor greater than 3."
   ]
  },
  {
   "cell_type": "code",
   "execution_count": null,
   "metadata": {},
   "outputs": [
    {
     "name": "stdout",
     "output_type": "stream",
     "text": [
      "Check the Validity of your Debit Card !!!\n",
      "Length is Valid\n",
      "Year is Valid\n",
      "Month is Valid\n",
      "CVV is Valid\n",
      "Your Debit Card is Valid. Thank You.\n"
     ]
    }
   ],
   "source": [
    "print('Check the Validity of your Debit Card !!!')\n",
    "card_num = int(input(\"Enter the 14-digit Debit Card Number: \"))\n",
    "#exp_year = int(input('Enter the expiry year: '))\n",
    "#exp_month = int(input('Enter the expiry month: '))\n",
    "#cvv = int(input(\"Enter the CVV which is located behind your Debit Card: \"))\n",
    "\n",
    "if len(str(card_num)) == 14:\n",
    "    print(\"Length is Valid\")\n",
    "    exp_year = int(input('Enter the expiry year: '))\n",
    "    if exp_year >= 2020:\n",
    "        print(\"Year is Valid\")\n",
    "        exp_month = int(input('Enter the expiry month: '))\n",
    "        if exp_month in range(1,13):\n",
    "            print(\"Month is Valid\")\n",
    "            cvv = int(input(\"Enter the CVV which is located behind your Debit Card: \"))\n",
    "            if len(str(cvv)) == 3:\n",
    "                print(\"CVV is Valid\")\n",
    "                print(\"Your Debit Card is Valid. Thank You.\")\n",
    "            else:\n",
    "                print(\"Your Debit Card is invalid. CVV number is not applicable.\")\n",
    "        \n",
    "        else:\n",
    "            print(\"Your Debit Card is invalid. Expiry Month mentioned is not applicable.\")\n",
    "        \n",
    "    else:\n",
    "        print(\"Your Debit Card is expired. It's not valid anymore.\")\n",
    "\n",
    "else:\n",
    "    print(\"Your Debit Card is not valid.\")\n"
   ]
  },
  {
   "cell_type": "markdown",
   "metadata": {},
   "source": [
    "2. In a pathology lab test, there is n number of samples for testing the health condition of a patient, each slide has 5 components, Sugar level, Blood pressure, Heartbeat rate, weight, fat percentage, based on input as provided by the patient's blood report.\n",
    "A. Create a sample input for a healthy patient and also take random samples from a patient like\n",
    "\n",
    "\"Sugar level\":75, \"Blood pressure\":110, \"Heartbeat rate\":71, \"weight\":65, \"fat percentage\":10\n",
    "\n",
    "B. Compare inputs with healthy patient data. If the patient data is not matching with the healthy patient’s data, provide a warning.\n",
    "\n",
    "C. Provide difference in readings to the patient.\n",
    "\n",
    "SAMPLE INPUT:\n",
    "\n",
    "Sugar level100\n",
    "Blood pressure90\n",
    "Heartbeat rate71\n",
    "weight92\n",
    "fat percentage12\n",
    "\n",
    "SAMPLE OUTPUT:\n",
    "\n",
    "{'Sugar level': 100, 'Blood pressure': 90, 'Heartbeat rate': 71, 'weight': 92, 'fat percentage': 12}\n",
    "Sugar level is 25 greater than ideal value\n",
    "Blood pressure is 20 less than ideal value\n",
    "Heartbeat rate ideal value\n",
    "weight is 27 greater than ideal value\n",
    "fat percentage is 2 greater than ideal value"
   ]
  },
  {
   "cell_type": "code",
   "execution_count": null,
   "metadata": {},
   "outputs": [
    {
     "name": "stdout",
     "output_type": "stream",
     "text": [
      "{'Sugar Level': 87.0, 'Blood Pressure': 134.0, 'Heartbeat Rate': 87.0, 'Weight': 59.0, 'Fat Percentage': 16.0}\n",
      "Sugar level is 12.0 greater than ideal value.\n",
      "Blood Pressure is 24.0 greater than ideal value.\n",
      "Heartbeat Rate is 16.0 greater than ideal value.\n",
      "Weight is 6.0 lower than ideal value.\n",
      "Fat Percentage is 6.0 greater than ideal value.\n"
     ]
    }
   ],
   "source": [
    "sl = float(input('Sugar Level: '))\n",
    "bp = float(input('Blood Pressure: '))\n",
    "hr = float(input('Heartbeat Rate: '))\n",
    "we = float(input('Weight: '))\n",
    "fp = float(input(\"Fat Percentage: \"))\n",
    "\n",
    "dict = {}\n",
    "dict['Sugar Level'] = sl\n",
    "dict['Blood Pressure'] = bp\n",
    "dict['Heartbeat Rate'] = hr\n",
    "dict['Weight'] = we\n",
    "dict['Fat Percentage'] = fp\n",
    "\n",
    "print(dict)\n",
    "\n",
    "if sl > 75:\n",
    "    print(\"Sugar level is\",sl-75,\"greater than ideal value.\")\n",
    "elif sl == 75:\n",
    "    print(\"Sugar level is equal to ideal value.\")\n",
    "else:\n",
    "    print(\"Sugar level is\",75-sl,\"lower than ideal value.\")\n",
    "\n",
    "if bp > 110:\n",
    "    print(\"Blood Pressure is\",bp-110,\"greater than ideal value.\")\n",
    "elif bp == 110:\n",
    "    print(\"Blood Pressure is equal to ideal value.\")\n",
    "else:\n",
    "    print(\"Blood Pressure is\",110-bp,\"lower than ideal value.\")\n",
    "\n",
    "if hr > 71:\n",
    "    print(\"Heartbeat Rate is\",hr-71,\"greater than ideal value.\")\n",
    "elif hr == 71:\n",
    "    print(\"Heartbeat Rate is equal to ideal value.\")\n",
    "else:\n",
    "    print(\"Heartbeat Rate is\",71-hr,\"lower than ideal value.\")\n",
    "\n",
    "if we > 65:\n",
    "    print(\"Weight is\",we-65,\"greater than ideal value.\")\n",
    "elif we == 65:\n",
    "    print(\"Weight is equal to ideal value.\")\n",
    "else:\n",
    "    print(\"Weight is\",65-we,\"lower than ideal value.\")\n",
    "\n",
    "if fp > 10:\n",
    "    print(\"Fat Percentage is\",fp-10,\"greater than ideal value.\")\n",
    "elif fp == 10:\n",
    "    print(\"Fat Percentage is equal to ideal value.\")\n",
    "else:\n",
    "    print(\"Fat Percentage is\",10-fp,\"lower than ideal value.\")\n"
   ]
  },
  {
   "cell_type": "markdown",
   "metadata": {},
   "source": [
    "3.Create a function that converts ordinary numbers into Roman Numerals. Here are the conversions: 'M'=1000, 'D'=500, 'C'=100, 'L'=50, 'X'=10, 'V'=5,'I'=1, 'IV' = 4 and 'XL' = 40.\n",
    "\n",
    "\n",
    "Integer numbers and their Roman equivalent: 1000 : 'M' 900 : 'CM' 500 : 'D' 400 : 'CD' 100 : 'C' 90 : 'XC' 50 : 'L' 40 : 'XL' 10 : 'X' 9 : 'IX' 5 : 'V' 4: 'IV' 1: 'I'\n",
    "\n",
    "SAMPLE INPUT:\n",
    "\n",
    "Enter number to Convert: 417\n",
    "\n",
    "SAMPLE OUTPUT:\n",
    "\n",
    "CDXVII"
   ]
  },
  {
   "cell_type": "code",
   "execution_count": 1,
   "metadata": {},
   "outputs": [
    {
     "name": "stdout",
     "output_type": "stream",
     "text": [
      "CDXVII\n"
     ]
    }
   ],
   "source": [
    "n = int(input('Enter the number: '))\n",
    "dict = {1000 :'M',900:'CM',500:'D',400:'CD',100:'C',90:'XC',50:'L',40:'XL',10:'X',9:'IX',5:'V',4:'IV',1:'I'}\n",
    "roman = ''\n",
    "for k in dict.keys():\n",
    "    while(n>=k):\n",
    "        n = n - k\n",
    "        roman = roman + dict[k]\n",
    "\n",
    "print(roman)"
   ]
  },
  {
   "cell_type": "markdown",
   "metadata": {},
   "source": [
    "4. We are given a set of n items. Each item i has a weight w(i) and a value v(i) where 0 <= i < n. We are given a maximum capacity of a bag B. The problem is to find what all items we should take such that the total weight does not exceed w and the total value is maximized.\n",
    "\n",
    "\n",
    "Step1: Take the following inputs from User Number of items (n) Maximum capacity of the bag (w) Take weight and value for all 'n' items\n",
    "\n",
    "Step 2: Maintain a Nested list (item_list) of all items [weight, value, profit/weight]\n",
    "\n",
    "Step 3: Sort this list(item_list) according to ratio Profit/Weight of each item\n",
    "\n",
    "Step 4: Display the items weight and their value in such a way that after adding them in a bag of capacity 'w’, Total weight of the bag should not get exceeded by 'w'\n",
    "\n",
    "Sample Input:\n",
    "\n",
    "Enter the number of items : 3\n",
    "\n",
    "Enter the capacity of the bag: 10\n",
    "\n",
    "enter weights for item 1 : 3\n",
    "\n",
    "enter Profit for item 1: 2\n",
    "\n",
    "enter weights for item 2: 4\n",
    "\n",
    "enter Profit for item 2: 10\n",
    "\n",
    "enter weights for item 3: 5\n",
    "\n",
    "enter Profit for item 3: 20\n",
    "\n",
    "Sample Output:\n",
    "\n",
    "Added Weight 5 with Profit 20 in bag\n",
    "\n",
    "Added Weight 4 with Profit 10 in bag"
   ]
  },
  {
   "cell_type": "code",
   "execution_count": null,
   "metadata": {},
   "outputs": [
    {
     "name": "stdout",
     "output_type": "stream",
     "text": [
      "[[5, 20, 4.0], [4, 10, 2.5], [3, 2, 0.6666666666666666]]\n",
      "Added weight 5 with price 20 in bag\n",
      "Added weight 4 with price 10 in bag\n"
     ]
    }
   ],
   "source": [
    "n = int(input('Enter the number of items: '))\n",
    "b = int(input('Enter the max capacity of the bag: '))\n",
    "w_list = []\n",
    "p_list = []\n",
    "\n",
    "for i in range(n):\n",
    "    w_list.append(int(input(f\"Enter the weight of item {i+1}\")))\n",
    "    p_list.append(int(input(f\"Enter the price of item {i+1}\")))\n",
    "\n",
    "item_set = []\n",
    "for i in range (len(w_list)):\n",
    "    item_set.append([w_list[i],p_list[i],p_list[i]/w_list[i]])\n",
    "\n",
    "item_set.sort(key = lambda x : x[2], reverse=True)\n",
    "print(item_set)\n",
    "\n",
    "temp = 0\n",
    "for i in item_set:\n",
    "    if temp + i[0] <= b:\n",
    "        print(f\"Added weight {i[0]} with price {i[1]} in bag\")\n",
    "        temp = temp + i[0]\n",
    "    else:\n",
    "        break\n"
   ]
  },
  {
   "cell_type": "markdown",
   "metadata": {},
   "source": [
    "5. 5 rounds of Rock-Paper-Scissors"
   ]
  },
  {
   "cell_type": "code",
   "execution_count": null,
   "metadata": {},
   "outputs": [
    {
     "name": "stdout",
     "output_type": "stream",
     "text": [
      "----- Round 1 -----\n",
      "Your Choice: Paper\n",
      "Computer Choice: Rock\n",
      "Scoreboard: Your Score - 1, Computer's score - 0\n",
      "----- Round 2 -----\n",
      "Your Choice: Rock\n",
      "Computer Choice: Scissor\n",
      "Scoreboard: Your Score - 2, Computer's score - 0\n",
      "----- Round 3 -----\n",
      "Your Choice: Rock\n",
      "Computer Choice: Paper\n",
      "Scoreboard: Your Score - 2, Computer's score - 1\n",
      "----- Round 4 -----\n",
      "Your Choice: Scissor\n",
      "Computer Choice: Paper\n",
      "Scoreboard: Your Score - 3, Computer's score - 1\n",
      "----- Round 5 -----\n",
      "Your Choice: Paper\n",
      "Computer Choice: Rock\n",
      "Scoreboard: Your Score - 4, Computer's score - 1\n",
      "\n",
      "-----Result-----\n",
      "Congratulations!! You have Won\n"
     ]
    }
   ],
   "source": [
    "import random\n",
    "list = ['Rock','Paper','Scissor']\n",
    "your_score,comp_score = 0,0\n",
    "for i in range(5):\n",
    "    print(f\"----- Round {i+1} -----\")\n",
    "    n1 = input('Your Choice: ')\n",
    "    print('Your Choice:', n1)\n",
    "    n2 = random.choice(list)\n",
    "    print('Computer Choice:', n2)\n",
    "    if n1 == n2:\n",
    "        your_score = your_score\n",
    "        comp_score = comp_score\n",
    "    else:\n",
    "        if n1 == 'Rock':\n",
    "            if n2 == 'Paper':\n",
    "                comp_score += 1\n",
    "            else:\n",
    "                your_score += 1\n",
    "\n",
    "        elif n1 == 'Paper':\n",
    "            if n2 == 'Scissor':\n",
    "                comp_score += 1\n",
    "            else:\n",
    "                your_score += 1\n",
    "\n",
    "        else:\n",
    "            if n2 == 'Rock':\n",
    "                comp_score += 1\n",
    "            else:\n",
    "                your_score += 1\n",
    "\n",
    "    print(f\"Scoreboard: Your Score - {your_score}, Computer's score - {comp_score}\")\n",
    "\n",
    "print()\n",
    "print('-----Result-----')\n",
    "if your_score > comp_score:\n",
    "    print('Congratulations!! You have Won')\n",
    "\n",
    "elif your_score == comp_score:\n",
    "    print('Match has been Tied')\n",
    "\n",
    "else:\n",
    "    print('The Computer has Won, Better luck next time.')"
   ]
  },
  {
   "cell_type": "markdown",
   "metadata": {},
   "source": [
    "6. You have a company that creates home security technology. Over the past five years, more than one million people have come to you for home security information and recommendations. And you have helped thousands of those people pick the best home security system for their homes. you have to test, research, and compare home security companies based on the factors that matter most when looking at security systems.\n",
    "You have to create list of 10 usernames. It should print the length of the names. The security system robot will introduce itself \"Hi! My name is Bob and I am the security system robot.\"\n",
    "\n",
    "Create a capitalize function to convert 1st letter of the word into capital letter.\n",
    "\n",
    "Please follow the below guidelines:\n",
    "\n",
    "Step1: Conversation1: If your name not present in the list then follow the below steps.\n",
    "\n",
    "length of the names 14\n",
    "\n",
    "Hi! My name is Bob and I am the security system robot.\n",
    "\n",
    "What is your name?: sam\n",
    "\n",
    "I think I have not seen you on the list Sam\n",
    "\n",
    "Would you like to be added to the system (yes/no)?: yes\n",
    "\n",
    "Hi! My name is Bob and I am the security system robot.\n",
    "\n",
    "What is your name?: sam\n",
    "\n",
    "Hello Sam!\n",
    "\n",
    "Would you like to be removed from the system (yes/no)?: no\n",
    "\n",
    "No problem, I did not want you to leave anyway.\n",
    "\n",
    "Hi! My name is Bob and I am the security system robot.\n",
    "\n",
    "Step 2: Conversation2: If your name present in the list then follow below steps.\n",
    "\n",
    "What is your name?: John\n",
    "\n",
    "Hello John!\n",
    "\n",
    "Would you like to be removed from the system (yes/no)?: yes\n",
    "\n",
    "['rani', 'vani', 'Julia', 'Alice', 'Ela', 'ray', 'sunny', 'John', 'Filip', 'Jakub', 'Kuba', 'Robert', 'Karol', 'Carol'] ['rani', 'vani', 'Julia', 'Alice', 'Ela', 'ray', 'sunny', 'Filip', 'Jakub', 'Kuba', 'Robert', 'Karol', 'Carol']\n",
    "\n",
    "Hi! My name is Bob and I am the security system robot.\n",
    "\n",
    "What is your name?: John\n",
    "\n",
    "I think I have not seen you on the list John\n",
    "\n",
    "Would you like to be added to the system (yes/no)?: no\n",
    "\n",
    "No worries. You will not be on the list.\n",
    "\n",
    "Hi! My name is Bob and I am the security system robot.\n",
    "\n",
    "Note: This program continue loop"
   ]
  },
  {
   "cell_type": "code",
   "execution_count": 4,
   "metadata": {},
   "outputs": [
    {
     "name": "stdout",
     "output_type": "stream",
     "text": [
      "Total known users: 14\n",
      "Hi! My name is Bob and I am the security system robot.\n",
      "I think I have not seen you on the list Praneeth\n",
      "No worries. You will not be on the list.\n",
      "Hi! My name is Bob and I am the security system robot.\n",
      "Hello Kuba\n",
      "Hi! My name is Bob and I am the security system robot.\n",
      "I think I have not seen you on the list Kuba\n",
      "Hi! My name is Bob and I am the security system robot.\n"
     ]
    }
   ],
   "source": [
    "#from itertools import count\n",
    "known_users = [\"rani\", \"vani\", \"Julia\", \"Alice\", \"Ela\", \"ray\", \"sunny\", \"John\", \"Filip\", \"Jakub\", \"Kuba\", \"Robert\", \"Karol\", \"Carol\"]\n",
    "print('Total known users:',len(known_users))\n",
    "\n",
    "while True:\n",
    "#for i in count():\n",
    "    print('Hi! My name is Bob and I am the security system robot.')\n",
    "    name = input('What is your name ?: ').strip().capitalize()\n",
    "    if name in known_users:\n",
    "        print('Hello', name)\n",
    "        yes_no = input('Would you like to be removed from the system (Yes/No) ?: ')\n",
    "        if yes_no == 'Yes':\n",
    "            known_users.remove(name)\n",
    "        else:\n",
    "            print('No problem, I did not want you to leave anyway.')\n",
    "\n",
    "    else:\n",
    "        print('I think I have not seen you on the list', name)\n",
    "        no_yes = input('Would you like to be added to the system (Yes/No): ')\n",
    "        if no_yes == 'Yes':\n",
    "            known_users.append(name)\n",
    "        else:\n",
    "            print('No worries. You will not be on the list.')"
   ]
  },
  {
   "cell_type": "code",
   "execution_count": null,
   "metadata": {},
   "outputs": [
    {
     "data": {
      "text/plain": [
       "'Fdfvsdzs'"
      ]
     },
     "execution_count": 4,
     "metadata": {},
     "output_type": "execute_result"
    }
   ],
   "source": [
    "name = input(\"What is your name?: \").strip().capitalize() \n",
    "name"
   ]
  },
  {
   "cell_type": "code",
   "execution_count": null,
   "metadata": {},
   "outputs": [],
   "source": [
    "import random\n",
    "list = [[i for i in random.sample(range(1,11),5)] for j in range(0,4)]\n",
    "list1 = []\n",
    "for i in list:\n",
    "    for j in i:\n",
    "        list1.append(j)\n",
    "\n",
    "dict1 = {}\n",
    "for i in set(list1):\n",
    "    dict1[i] = list1.count(i)\n",
    "\n",
    "print('Dictionary for number and its frequency :',dict1)\n",
    "dict2 = dict(sorted(dict1.items(), key=lambda x: x[1], reverse=True))\n",
    "print('Dictionary in Descending order of frequency : ',dict2)\n",
    "list3 = []\n",
    "for i in dict2.keys():\n",
    "    list3.append(i)\n",
    "print('Top three frequent numbers are',list3[0:3])"
   ]
  }
 ],
 "metadata": {
  "kernelspec": {
   "display_name": "Python 3",
   "language": "python",
   "name": "python3"
  },
  "language_info": {
   "codemirror_mode": {
    "name": "ipython",
    "version": 3
   },
   "file_extension": ".py",
   "mimetype": "text/x-python",
   "name": "python",
   "nbconvert_exporter": "python",
   "pygments_lexer": "ipython3",
   "version": "3.11.1"
  },
  "orig_nbformat": 4
 },
 "nbformat": 4,
 "nbformat_minor": 2
}
