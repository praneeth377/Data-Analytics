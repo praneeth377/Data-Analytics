{
 "cells": [
  {
   "cell_type": "markdown",
   "metadata": {},
   "source": [
    "Normal Search"
   ]
  },
  {
   "cell_type": "code",
   "execution_count": 4,
   "metadata": {},
   "outputs": [
    {
     "name": "stdout",
     "output_type": "stream",
     "text": [
      "6 is present at index 3 of the list.\n",
      "6 is present at index 11 of the list.\n"
     ]
    }
   ],
   "source": [
    "def search(list,n):\n",
    "    for i in range(0,len(list)):\n",
    "        if list[i] == n:\n",
    "            print(f\"{n} is present at index {i} of the list.\")\n",
    "#        else:\n",
    "#            print(n,'is not present in the list.')\n",
    "\n",
    "list1 = [2,4,35,6,54,5,23,57,45,23,3,6]\n",
    "search(list1,6)"
   ]
  },
  {
   "cell_type": "markdown",
   "metadata": {},
   "source": [
    "Binary Search (list should be sorted)"
   ]
  },
  {
   "cell_type": "code",
   "execution_count": 15,
   "metadata": {},
   "outputs": [
    {
     "name": "stdout",
     "output_type": "stream",
     "text": [
      "Found at 0\n"
     ]
    }
   ],
   "source": [
    "pos = 0\n",
    "def BinarySearch(list1,num):\n",
    "    global pos\n",
    "    l,u = 0,len(list1)-1\n",
    "    while(u>=l):\n",
    "        m = (u+l)//2\n",
    "        if list1[m] == num:\n",
    "            pos = m\n",
    "            return True\n",
    "        else:\n",
    "            if list1[m] < num:\n",
    "                l = m+1\n",
    "            else:\n",
    "                u = m-1\n",
    "    return False\n",
    "\n",
    "\n",
    "list1 = [3,6,8,10,16,22,34,48,77]\n",
    "num = 3\n",
    "if BinarySearch(list1,num):\n",
    "    print('Found at',pos)\n",
    "else:\n",
    "    print('Not Found')"
   ]
  },
  {
   "cell_type": "markdown",
   "metadata": {},
   "source": [
    "Bubble Sort"
   ]
  },
  {
   "cell_type": "code",
   "execution_count": 21,
   "metadata": {},
   "outputs": [
    {
     "data": {
      "text/plain": [
       "[2, 3, 5, 6, 7, 8]"
      ]
     },
     "execution_count": 21,
     "metadata": {},
     "output_type": "execute_result"
    }
   ],
   "source": [
    "list1 = [5,3,8,6,7,2]\n",
    "temp = 0\n",
    "for i in range(len(list1)-1,0,-1):\n",
    "    for j in range(i):\n",
    "        if list1[j] > list1[j+1]:\n",
    "            list1[j] = list1[j] ^ list1[j+1]\n",
    "            list1[j+1] = list1[j] ^ list1[j+1]\n",
    "            list1[j] = list1[j] ^ list1[j+1]\n",
    "\n",
    "list1"
   ]
  },
  {
   "cell_type": "code",
   "execution_count": 19,
   "metadata": {},
   "outputs": [
    {
     "name": "stdout",
     "output_type": "stream",
     "text": [
      "5 3\n"
     ]
    }
   ],
   "source": [
    "a = 3\n",
    "b = 5\n",
    "\n",
    "a = a+b\n",
    "b = a-b\n",
    "a = a-b\n",
    "print(a,b)"
   ]
  },
  {
   "cell_type": "code",
   "execution_count": 3,
   "metadata": {},
   "outputs": [
    {
     "name": "stdout",
     "output_type": "stream",
     "text": [
      "6 4\n"
     ]
    }
   ],
   "source": [
    "a,b = 4,6\n",
    "a,b = b,a\n",
    "print(a,b)"
   ]
  },
  {
   "cell_type": "markdown",
   "metadata": {},
   "source": [
    "Selection Sort"
   ]
  },
  {
   "cell_type": "code",
   "execution_count": 4,
   "metadata": {},
   "outputs": [
    {
     "data": {
      "text/plain": [
       "[2, 3, 5, 6, 7, 8]"
      ]
     },
     "execution_count": 4,
     "metadata": {},
     "output_type": "execute_result"
    }
   ],
   "source": [
    "list2 = [5,3,8,6,7,2]\n",
    "for i in range(len(list2)-1):\n",
    "    min = list2[i]\n",
    "    for j in range(i,len(list2)):\n",
    "        if min >= list2[j]:\n",
    "            min = list2[j]\n",
    "    i1 = list2.index(min)\n",
    "    list2[i],list2[i1] = list2[i1],list2[i]\n",
    "\n",
    "list2"
   ]
  },
  {
   "cell_type": "markdown",
   "metadata": {},
   "source": [
    "Insertion Sort"
   ]
  },
  {
   "cell_type": "code",
   "execution_count": 5,
   "metadata": {},
   "outputs": [
    {
     "data": {
      "text/plain": [
       "[1, 2, 3, 4, 5, 6, 7]"
      ]
     },
     "execution_count": 5,
     "metadata": {},
     "output_type": "execute_result"
    }
   ],
   "source": [
    "list3 = [5,3,6,2,1,7,4]\n",
    "for i in range(1,len(list3)):\n",
    "    j = i\n",
    "    while list3[j-1] > list3[j] and j > 0:\n",
    "        list3[j],list3[j-1] = list3[j-1],list3[j]\n",
    "        j -= 1\n",
    "\n",
    "list3"
   ]
  }
 ],
 "metadata": {
  "kernelspec": {
   "display_name": "Python 3",
   "language": "python",
   "name": "python3"
  },
  "language_info": {
   "codemirror_mode": {
    "name": "ipython",
    "version": 3
   },
   "file_extension": ".py",
   "mimetype": "text/x-python",
   "name": "python",
   "nbconvert_exporter": "python",
   "pygments_lexer": "ipython3",
   "version": "3.11.1"
  },
  "orig_nbformat": 4
 },
 "nbformat": 4,
 "nbformat_minor": 2
}
