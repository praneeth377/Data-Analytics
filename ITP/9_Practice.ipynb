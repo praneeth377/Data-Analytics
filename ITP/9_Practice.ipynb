{
 "cells": [
  {
   "cell_type": "code",
   "execution_count": 8,
   "metadata": {},
   "outputs": [
    {
     "name": "stdout",
     "output_type": "stream",
     "text": [
      "10101010101010110101130001011101 is not binary number.\n"
     ]
    }
   ],
   "source": [
    "# Check if the number is binary or not\n",
    "n = input()\n",
    "count = 0\n",
    "for i in n:\n",
    "    if i == '0' or i == '1':\n",
    "        count += 1\n",
    "if count == len(n): print(f\"{n} is binary number.\")\n",
    "else: print(f\"{n} is not binary number.\")"
   ]
  },
  {
   "cell_type": "code",
   "execution_count": 19,
   "metadata": {},
   "outputs": [
    {
     "name": "stdout",
     "output_type": "stream",
     "text": [
      "a is 20 and b is 10\n"
     ]
    }
   ],
   "source": [
    "# Swap 2 numbers without using third variable\n",
    "a = int(input('Enter a: '))\n",
    "b = int(input('Enter b: '))\n",
    "a = a-b\n",
    "b = a+b\n",
    "a = b-a\n",
    "print(f\"a is {a} and b is {b}\")"
   ]
  },
  {
   "cell_type": "code",
   "execution_count": 2,
   "metadata": {},
   "outputs": [
    {
     "data": {
      "text/plain": [
       "[2, 5]"
      ]
     },
     "execution_count": 2,
     "metadata": {},
     "output_type": "execute_result"
    }
   ],
   "source": [
    "# Prime factors for a given integer\n",
    "n = int(input())\n",
    "list2 = []\n",
    "for i in range(2,n+1):\n",
    "    if n%i == 0:\n",
    "        list2.append(i)\n",
    "\n",
    "def isprime(num):\n",
    "    list1 = []\n",
    "    for i in range(2,num):\n",
    "        if num%i == 0:\n",
    "            list1.append(i)\n",
    "    if len(list1) == 0:\n",
    "        return num\n",
    "\n",
    "list_prime = list(filter(lambda x: isprime(x), list2))\n",
    "list_prime"
   ]
  },
  {
   "cell_type": "code",
   "execution_count": 11,
   "metadata": {},
   "outputs": [
    {
     "name": "stdout",
     "output_type": "stream",
     "text": [
      "2 3 5 2 2 "
     ]
    }
   ],
   "source": [
    "# prime factors with powers i.e., number of times. \n",
    "n = int(input())\n",
    "def isprime(num):\n",
    "    list1 = []\n",
    "    if num == 0 or num == 1:\n",
    "        return\n",
    "    for i in range(2,int(num**0.5) + 1):\n",
    "        if num%i == 0:\n",
    "            list1.append(i)\n",
    "    if len(list1) == 0:\n",
    "        return num\n",
    "primes = [i for i in range(2,100) if isprime(i)]\n",
    "\n",
    "while(n>1):\n",
    "    for i in primes:\n",
    "        if n%i == 0:\n",
    "            print(i, end=' ')\n",
    "            n = n/i\n",
    "        else:\n",
    "            continue\n"
   ]
  },
  {
   "cell_type": "code",
   "execution_count": 15,
   "metadata": {},
   "outputs": [
    {
     "data": {
      "text/plain": [
       "[2, 3, 5, 7, 11, 13, 17, 19, 23, 29]"
      ]
     },
     "execution_count": 15,
     "metadata": {},
     "output_type": "execute_result"
    }
   ],
   "source": [
    "# Print first n prime numbers\n",
    "n = int(input())\n",
    "def isprime(num):\n",
    "    list1 = []\n",
    "    if num == 0 or num == 1:\n",
    "        return\n",
    "    for i in range(2,int(num**0.5) + 1):\n",
    "        if num%i == 0:\n",
    "            list1.append(i)\n",
    "    if len(list1) == 0:\n",
    "        return num\n",
    "i = 0\n",
    "prime_list = []    \n",
    "while True:\n",
    "    i += 1\n",
    "    if isprime(i):\n",
    "        prime_list.append(i)\n",
    "        if len(prime_list) == n:\n",
    "            break\n",
    "prime_list"
   ]
  },
  {
   "cell_type": "code",
   "execution_count": 5,
   "metadata": {},
   "outputs": [
    {
     "data": {
      "text/plain": [
       "72"
      ]
     },
     "execution_count": 5,
     "metadata": {},
     "output_type": "execute_result"
    }
   ],
   "source": [
    "# LCM of 2 numbers\n",
    "n1 = int(input())\n",
    "n2 = int(input())\n",
    "n1_multiples = []\n",
    "n2_multiples = []\n",
    "for i in range(1,n2+1):\n",
    "    n1_multiples.append(n1*i)\n",
    "for i in range(1,n1+1):\n",
    "    n2_multiples.append(n2*i)\n",
    "\n",
    "#print(n1_multiples)\n",
    "#print(n2_multiples)\n",
    "common_list = list(filter(lambda x : x in n1_multiples, n2_multiples))\n",
    "min(common_list)"
   ]
  },
  {
   "cell_type": "code",
   "execution_count": 9,
   "metadata": {},
   "outputs": [
    {
     "data": {
      "text/plain": [
       "7"
      ]
     },
     "execution_count": 9,
     "metadata": {},
     "output_type": "execute_result"
    }
   ],
   "source": [
    "# GCD of 2 numbers\n",
    "n1 = int(input())\n",
    "n2 = int(input())\n",
    "n1_divisors = []\n",
    "n2_divisors = []\n",
    "\n",
    "for i in range(1,n1):\n",
    "    if n1%i == 0:\n",
    "        n1_divisors.append(i)\n",
    "for i in range(1,n2):\n",
    "    if n2%i == 0:\n",
    "        n2_divisors.append(i)\n",
    " \n",
    "#print(n1_divisors)\n",
    "#print(n2_divisors)\n",
    "common_list = list(filter(lambda x : x in n1_divisors, n2_divisors))\n",
    "max(common_list)"
   ]
  },
  {
   "cell_type": "code",
   "execution_count": 7,
   "metadata": {},
   "outputs": [
    {
     "data": {
      "text/plain": [
       "'110'"
      ]
     },
     "execution_count": 7,
     "metadata": {},
     "output_type": "execute_result"
    }
   ],
   "source": [
    "# Base 10 number to binary\n",
    "n = int(input())\n",
    "dig = 0\n",
    "binary = ''\n",
    "#bin = []\n",
    "while(n>0):\n",
    "    dig = n%2\n",
    "    binary = str(dig)+binary \n",
    "    n = n//2\n",
    "binary    \n",
    "#bin\n",
    "#s = ''\n",
    "#for i in bin:\n",
    "#    s = str(i) + s\n",
    "#print(s)"
   ]
  },
  {
   "cell_type": "code",
   "execution_count": 7,
   "metadata": {},
   "outputs": [
    {
     "name": "stdout",
     "output_type": "stream",
     "text": [
      "DCCC\n"
     ]
    }
   ],
   "source": [
    "# Num to Roman\n",
    "n = int(input('Enter the number: '))\n",
    "dict = {1000 :'M',900:'CM',500:'D',400:'CD',100:'C',90:'XC',50:'L',40:'XL',10:'X',9:'IX',5:'V',4:'IV',1:'I'}\n",
    "roman = ''\n",
    "for k in dict.keys():\n",
    "    while(n>=k):\n",
    "        n = n - k\n",
    "        roman = roman + dict[k]\n",
    "\n",
    "print(roman)"
   ]
  },
  {
   "cell_type": "code",
   "execution_count": 19,
   "metadata": {},
   "outputs": [
    {
     "data": {
      "text/plain": [
       "[(3, 9), (4, 8), (5, 7), (6, 6)]"
      ]
     },
     "execution_count": 19,
     "metadata": {},
     "output_type": "execute_result"
    }
   ],
   "source": [
    "list_num = [1, 2, 3, 4, 5, 6, 7, 8, 9, 10]\n",
    "sum = 12\n",
    "list1 = []\n",
    "for i in range(len(list_num)):\n",
    "    for j in range(i+1,len(list_num)):\n",
    "        if i + j == sum:\n",
    "            list1.append((i,j))\n",
    "\n",
    "if sum/2 in list_num:\n",
    "    list1.append((int(sum/2),int(sum/2)))\n",
    "\n",
    "list1"
   ]
  },
  {
   "cell_type": "code",
   "execution_count": 26,
   "metadata": {},
   "outputs": [
    {
     "name": "stdout",
     "output_type": "stream",
     "text": [
      "36\n"
     ]
    }
   ],
   "source": [
    "# Power of a Number without in built functions\n",
    "n = int(input())\n",
    "k = int(input())\n",
    "prod = 1\n",
    "i = 0\n",
    "while(i<k):\n",
    "    prod = prod*n\n",
    "    i = i + 1\n",
    "\n",
    "print(prod)"
   ]
  },
  {
   "cell_type": "code",
   "execution_count": 29,
   "metadata": {},
   "outputs": [
    {
     "name": "stdout",
     "output_type": "stream",
     "text": [
      "97 122\n"
     ]
    }
   ],
   "source": [
    "print(ord('a'),ord('z'))"
   ]
  },
  {
   "cell_type": "code",
   "execution_count": 28,
   "metadata": {},
   "outputs": [
    {
     "data": {
      "text/plain": [
       "'a'"
      ]
     },
     "execution_count": 28,
     "metadata": {},
     "output_type": "execute_result"
    }
   ],
   "source": [
    "chr(97)"
   ]
  },
  {
   "cell_type": "code",
   "execution_count": 45,
   "metadata": {},
   "outputs": [
    {
     "data": {
      "text/plain": [
       "'%'"
      ]
     },
     "execution_count": 45,
     "metadata": {},
     "output_type": "execute_result"
    }
   ],
   "source": [
    "chr(37)"
   ]
  },
  {
   "cell_type": "code",
   "execution_count": 48,
   "metadata": {},
   "outputs": [
    {
     "name": "stdout",
     "output_type": "stream",
     "text": [
      "bcde\n"
     ]
    }
   ],
   "source": [
    "# Caesar Cipher. Backtracking can also be done easily with this skeleton\n",
    "s = input('Enter the string: ')\n",
    "n = int(input('Enter the Caesar Key: '))\n",
    "list1 = []\n",
    "for i in s:\n",
    "    list1.append(ord(i))\n",
    "list1\n",
    "for i in range(len(list1)):\n",
    "    list1[i] += (n%26)\n",
    "    if list1[i] > 122:\n",
    "        list1[i] = list1[i] - 26\n",
    "\n",
    "s1 = ''\n",
    "for i in range(len(list1)):\n",
    "    s1 = s1 + chr(list1[i])\n",
    "\n",
    "print(s1)"
   ]
  },
  {
   "cell_type": "code",
   "execution_count": 59,
   "metadata": {},
   "outputs": [
    {
     "data": {
      "text/plain": [
       "90"
      ]
     },
     "execution_count": 59,
     "metadata": {},
     "output_type": "execute_result"
    }
   ],
   "source": [
    "ord('Z')"
   ]
  },
  {
   "cell_type": "code",
   "execution_count": 65,
   "metadata": {},
   "outputs": [
    {
     "name": "stdout",
     "output_type": "stream",
     "text": [
      "A  \n",
      "B C  \n",
      "D E F  \n",
      "G H I J  \n",
      "K L M N O  \n",
      "P Q R S T U  \n",
      "V W X Y Z A B  \n",
      "C D E F G H I J  \n",
      "K L M N O P Q R S  \n",
      "T U V W X Y Z A B C  \n"
     ]
    }
   ],
   "source": [
    "n = int(input())\n",
    "k = 65\n",
    "for i in range(n):\n",
    "    for j in range(i+1):\n",
    "        print(chr(k), end = ' ')\n",
    "        k += 1\n",
    "        if k > 90:\n",
    "            while(k not in range(65,91)):\n",
    "                k = k - 26\n",
    "                if k in range(65,91):\n",
    "                    break\n",
    "    print(' ')"
   ]
  },
  {
   "cell_type": "code",
   "execution_count": 8,
   "metadata": {},
   "outputs": [
    {
     "name": "stdout",
     "output_type": "stream",
     "text": [
      "---------------------.|.---------------------\n",
      "------------------.|..|..|.------------------\n",
      "---------------.|..|..|..|..|.---------------\n",
      "------------.|..|..|..|..|..|..|.------------\n",
      "---------.|..|..|..|..|..|..|..|..|.---------\n",
      "------.|..|..|..|..|..|..|..|..|..|..|.------\n",
      "---.|..|..|..|..|..|..|..|..|..|..|..|..|.---\n",
      "-------------------WELCOME-------------------\n",
      "---.|..|..|..|..|..|..|..|..|..|..|..|..|.---\n",
      "------.|..|..|..|..|..|..|..|..|..|..|.------\n",
      "---------.|..|..|..|..|..|..|..|..|.---------\n",
      "------------.|..|..|..|..|..|..|.------------\n",
      "---------------.|..|..|..|..|.---------------\n",
      "------------------.|..|..|.------------------\n",
      "---------------------.|.---------------------\n"
     ]
    }
   ],
   "source": [
    "a,b = input().split(' ')\n",
    "a,b = int(a),int(b)\n",
    "s1,s2 = '-','.|.'\n",
    "for i in range(a//2):\n",
    "        print(f\"{s1*(3*((a//2)-i))}{s2*((2*i)+1)}{s1*(3*((a//2)-i))}\", end = '\\n')\n",
    "\n",
    "s3 = 'WELCOME'    \n",
    "print(f\"{s1*((b-7)//2)}{s3}{s1*((b-7)//2)}\")\n",
    "\n",
    "for i in range(a//2):\n",
    "        print(f\"{s1*(3*(i+1))}{s2*(a-(2*(i+1)))}{s1*(3*(i+1))}\", end = '\\n')"
   ]
  },
  {
   "cell_type": "code",
   "execution_count": 5,
   "metadata": {},
   "outputs": [
    {
     "name": "stdout",
     "output_type": "stream",
     "text": [
      "2\n"
     ]
    }
   ],
   "source": [
    "n = int(input())\n",
    "list1 = []\n",
    "for i in range(n):\n",
    "    s = input()\n",
    "    list1.append(s)\n",
    "\n",
    "def reverse(s):\n",
    "    s1 = ''\n",
    "    for i in s:\n",
    "        s1 = i+s1\n",
    "    return s1\n",
    "\n",
    "count = 0\n",
    "for i in range(0,len(list1)):\n",
    "    for j in range(i+1,len(list1)):\n",
    "        if list1[i] == reverse(list1[j]):\n",
    "            count += 1\n",
    "\n",
    "print(count)"
   ]
  },
  {
   "cell_type": "code",
   "execution_count": 14,
   "metadata": {},
   "outputs": [
    {
     "name": "stdout",
     "output_type": "stream",
     "text": [
      "Chunk 1  [11, 45, 8]\n",
      "After reversing it [8, 45, 11]\n",
      "Chunk 2  [23, 14, 12]\n",
      "After reversing it [12, 14, 23]\n",
      "Chunk 3  [78, 45, 89]\n",
      "After reversing it [89, 45, 78]\n"
     ]
    }
   ],
   "source": [
    "# Divide a list into 3 chunks and output the reversed chunks\n",
    "sample_list = [11, 45, 8, 23, 14, 12, 78, 45, 89]\n",
    "chunks = []\n",
    "for i in range(0,len(sample_list),3):\n",
    "    chunks = sample_list[i:i+3]\n",
    "    print('Chunk', int((i/3)+1),'', chunks)\n",
    "    print('After reversing it',chunks[::-1])"
   ]
  }
 ],
 "metadata": {
  "kernelspec": {
   "display_name": "Python 3",
   "language": "python",
   "name": "python3"
  },
  "language_info": {
   "codemirror_mode": {
    "name": "ipython",
    "version": 3
   },
   "file_extension": ".py",
   "mimetype": "text/x-python",
   "name": "python",
   "nbconvert_exporter": "python",
   "pygments_lexer": "ipython3",
   "version": "3.11.1"
  },
  "orig_nbformat": 4
 },
 "nbformat": 4,
 "nbformat_minor": 2
}
