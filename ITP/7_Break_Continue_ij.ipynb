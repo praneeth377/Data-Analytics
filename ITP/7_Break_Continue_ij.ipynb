{
 "cells": [
  {
   "cell_type": "code",
   "execution_count": 4,
   "metadata": {},
   "outputs": [
    {
     "data": {
      "text/plain": [
       "15"
      ]
     },
     "execution_count": 4,
     "metadata": {},
     "output_type": "execute_result"
    }
   ],
   "source": [
    "def sum(arr):\n",
    "    sum = 0\n",
    "    for i in arr:\n",
    "        sum = sum+i\n",
    "    return(sum)\n",
    "\n",
    "arr1 = [1,2,3,4,5]\n",
    "sum(arr1)"
   ]
  },
  {
   "cell_type": "code",
   "execution_count": 5,
   "metadata": {},
   "outputs": [
    {
     "name": "stdout",
     "output_type": "stream",
     "text": [
      "1213 23 545 54 657 5487 34 54 65 78 34 324 0 2 4 "
     ]
    }
   ],
   "source": [
    "list = [1213,23,545,54,657,5487,34,54,65,78,34,324]\n",
    "for i in list:\n",
    "    print(i, end=' ')\n",
    "for i in range(0,6,2):\n",
    "    print(i, end=' ')"
   ]
  },
  {
   "cell_type": "code",
   "execution_count": 6,
   "metadata": {},
   "outputs": [
    {
     "name": "stdout",
     "output_type": "stream",
     "text": [
      "Met a negative number -10\n"
     ]
    }
   ],
   "source": [
    "# Don't stay in the loop, get out of it -- Break\n",
    "# Drop this particular case (stay in loop) and move to the next customer(Skip) -- Continue\n",
    "for i in range(5):\n",
    "    a = int(input())\n",
    "    if a<0:\n",
    "        print('Met a negative number', a)\n",
    "        break\n",
    "    else:\n",
    "        print(a)"
   ]
  },
  {
   "cell_type": "code",
   "execution_count": 7,
   "metadata": {},
   "outputs": [
    {
     "name": "stdout",
     "output_type": "stream",
     "text": [
      "0 1 2 3 4 5 6 7 9 "
     ]
    }
   ],
   "source": [
    "for i in range(10):\n",
    "    if i==8:\n",
    "        continue\n",
    "    else:\n",
    "        print(i, end=' ')"
   ]
  },
  {
   "cell_type": "code",
   "execution_count": 8,
   "metadata": {},
   "outputs": [
    {
     "name": "stdout",
     "output_type": "stream",
     "text": [
      "6 12 18 24 "
     ]
    }
   ],
   "source": [
    "i = 1\n",
    "while (i<=10):\n",
    "    if i==5:\n",
    "        break\n",
    "\n",
    "    print(6 * i, end=' ')\n",
    "    i += 1"
   ]
  },
  {
   "cell_type": "code",
   "execution_count": 9,
   "metadata": {},
   "outputs": [
    {
     "name": "stdout",
     "output_type": "stream",
     "text": [
      "131 92 838 920 233 321 119 "
     ]
    }
   ],
   "source": [
    "list = [131,92,838,120,920,233,321,119]\n",
    "for i in list:\n",
    "    if i == 120:\n",
    "        continue\n",
    "    print(i, end=' ')"
   ]
  },
  {
   "cell_type": "code",
   "execution_count": 10,
   "metadata": {},
   "outputs": [
    {
     "name": "stdout",
     "output_type": "stream",
     "text": [
      "p t h o n 1 2 3 4 6 7 8 9 10 "
     ]
    }
   ],
   "source": [
    "s = 'python'\n",
    "for i in s:\n",
    "    if i == 'y':\n",
    "        continue\n",
    "    print(i, end=\" \")\n",
    "\n",
    "i = 0\n",
    "while(i<10):\n",
    "    i += 1\n",
    "    if i==5:\n",
    "        continue\n",
    "    print(i, end=' ')"
   ]
  },
  {
   "cell_type": "code",
   "execution_count": 11,
   "metadata": {},
   "outputs": [
    {
     "name": "stdout",
     "output_type": "stream",
     "text": [
      "5 x 1 = 5\n",
      "5 x 2 = 10\n",
      "5 x 3 = 15\n",
      "5 x 4 = 20\n",
      "5 x 5 = 25\n",
      "5 x 6 = 30\n",
      "5 x 7 = 35\n",
      "5 x 8 = 40\n",
      "5 x 9 = 45\n",
      "5 x 10 = 50\n"
     ]
    }
   ],
   "source": [
    "a = int(input('Enter the number: '))\n",
    "for i in range(1,11):\n",
    "    print(a,'x',i,'=', a*i)"
   ]
  },
  {
   "cell_type": "code",
   "execution_count": 12,
   "metadata": {},
   "outputs": [
    {
     "name": "stdout",
     "output_type": "stream",
     "text": [
      "***********\n",
      "**********\n",
      "*********\n",
      "********\n",
      "*******\n",
      "******\n",
      "*****\n",
      "****\n",
      "***\n",
      "**\n",
      "*\n"
     ]
    }
   ],
   "source": [
    "s = '*'\n",
    "for i in range(11,0,-1):\n",
    "    print(s*i)"
   ]
  },
  {
   "cell_type": "code",
   "execution_count": 13,
   "metadata": {},
   "outputs": [
    {
     "name": "stdout",
     "output_type": "stream",
     "text": [
      "A\n",
      "AB\n",
      "ABC\n",
      "ABCD\n",
      "ABCDE\n"
     ]
    }
   ],
   "source": [
    "for i in range(65,70):\n",
    "    for j in range(65,i+1):\n",
    "        print(chr(j),end='')\n",
    "    print()"
   ]
  },
  {
   "cell_type": "code",
   "execution_count": 14,
   "metadata": {},
   "outputs": [
    {
     "name": "stdout",
     "output_type": "stream",
     "text": [
      "Pune Mumbai Delhi 23 12 32 9.29 8.28 7.27 \n",
      "Pune Mumbai Delhi 23 12 32 9.29 8.28 7.27 "
     ]
    }
   ],
   "source": [
    "list = [['Pune','Mumbai','Delhi'],[23,12,32],[9.29,8.28,7.27]]\n",
    "for i in range(len(list)):\n",
    "    for j in range(len(list[i])):\n",
    "        print(list[i][j], end=' ')\n",
    "print()\n",
    "for item in list:\n",
    "    for sub_item in item:\n",
    "        print(sub_item, end=' ')"
   ]
  },
  {
   "cell_type": "code",
   "execution_count": 15,
   "metadata": {},
   "outputs": [
    {
     "name": "stdout",
     "output_type": "stream",
     "text": [
      "1 0 0 0 0 \n",
      "0 1 0 0 0 \n",
      "0 0 1 0 0 \n",
      "0 0 0 1 0 \n",
      "0 0 0 0 1 \n"
     ]
    }
   ],
   "source": [
    "n = int(input())\n",
    "for i in range(n):\n",
    "    for j in range(n):\n",
    "        if i==j:\n",
    "            print(1, end=' ')\n",
    "        else:\n",
    "            print(0, end=' ')\n",
    "    print()"
   ]
  },
  {
   "cell_type": "code",
   "execution_count": 16,
   "metadata": {},
   "outputs": [
    {
     "name": "stdout",
     "output_type": "stream",
     "text": [
      "A,p,p,l,e,B,a,n,a,n,a,C,a,r,D,o,l,p,h,i,n,"
     ]
    }
   ],
   "source": [
    "words = ['Apple','Banana','Car','Dolphin']\n",
    "for w_o_r_d_s in words:\n",
    "    for letters in w_o_r_d_s:\n",
    "        print(letters, end=',')"
   ]
  },
  {
   "cell_type": "code",
   "execution_count": 17,
   "metadata": {},
   "outputs": [
    {
     "name": "stdout",
     "output_type": "stream",
     "text": [
      "108\n",
      "108\n"
     ]
    }
   ],
   "source": [
    "n = 101\n",
    "while(n > 100):\n",
    "    n += 1\n",
    "    if(n%12 == 0):\n",
    "        break\n",
    "print(n)\n",
    "\n",
    "##### or ####\n",
    "\n",
    "for i in  range(0,1000,12):\n",
    "    if len(str(i)) == 3:\n",
    "        break\n",
    "print(i)"
   ]
  },
  {
   "cell_type": "code",
   "execution_count": 18,
   "metadata": {},
   "outputs": [
    {
     "name": "stdout",
     "output_type": "stream",
     "text": [
      "6\n",
      "1 \n",
      "2 2 \n",
      "3 3 3 \n",
      "4 4 4 4 \n",
      "5 5 5 5 5 \n",
      "6 6 6 6 6 6 \n"
     ]
    }
   ],
   "source": [
    "n1 = int(input()) \n",
    "for k in range(1,n1):\n",
    "    n1 = n1-k\n",
    "    if n1 == 0:\n",
    "        break\n",
    "print(k)                         # Beautiful !!!\n",
    "#n=5\n",
    "for i in range(0,k):\n",
    "    for j in range(0,i+1):\n",
    "        print(i+1,end=' ')\n",
    "    print()"
   ]
  },
  {
   "cell_type": "code",
   "execution_count": 19,
   "metadata": {},
   "outputs": [
    {
     "name": "stdout",
     "output_type": "stream",
     "text": [
      "3\n",
      "5\n"
     ]
    }
   ],
   "source": [
    "list = [10,3,5,8,12]\n",
    "list2 = []\n",
    "for item in list:\n",
    "    if item%2==0:\n",
    "        continue\n",
    "    print(item)"
   ]
  },
  {
   "cell_type": "code",
   "execution_count": 20,
   "metadata": {},
   "outputs": [
    {
     "name": "stdout",
     "output_type": "stream",
     "text": [
      "Good Guess\n",
      "Sorry try again\n",
      "Sorry try again\n",
      "Sorry try again\n",
      "You Lose\n"
     ]
    }
   ],
   "source": [
    "word_list = ['bike','jump','milk','race','rice','hide','tree']\n",
    "for i in range(0,5):\n",
    "    if i==0:\n",
    "        n = input()\n",
    "        if n in word_list:\n",
    "            print('Good Guess')\n",
    "        else:\n",
    "            print('Sorry, try again')\n",
    "    if i==1:\n",
    "        n = input()\n",
    "        if n in word_list:\n",
    "            print('You win')\n",
    "            break\n",
    "        else:\n",
    "            print('Sorry try again')\n",
    "    if i==2:\n",
    "        n = input()\n",
    "        if n in word_list:\n",
    "            print('You win')\n",
    "            break\n",
    "        else:\n",
    "            print('Sorry try again')\n",
    "    if i==3:\n",
    "        n = input()\n",
    "        if n in word_list:\n",
    "            print('You win')\n",
    "            break\n",
    "        else:\n",
    "            print('Sorry try again')\n",
    "    if i==4:\n",
    "        n = input()\n",
    "        if n in word_list:\n",
    "            print('You win')\n",
    "            break\n",
    "        else:\n",
    "            print('You Lose')\n"
   ]
  },
  {
   "cell_type": "code",
   "execution_count": 1,
   "metadata": {},
   "outputs": [
    {
     "name": "stdout",
     "output_type": "stream",
     "text": [
      "[3, 5, 7, 11, 13, 17, 19]\n"
     ]
    }
   ],
   "source": [
    "a = int(input())\n",
    "b = int(input())\n",
    "sum = 0\n",
    "count = []\n",
    "for i in range(a,b+1):\n",
    "    for j in range(2,i):\n",
    "        if i%j == 0:\n",
    "            count.append(i)\n",
    "\n",
    "list2 = [i for i in range(a,b+1) if i not in count]\n",
    "print(list2)"
   ]
  },
  {
   "cell_type": "code",
   "execution_count": 22,
   "metadata": {},
   "outputs": [
    {
     "name": "stdout",
     "output_type": "stream",
     "text": [
      "5.0\n"
     ]
    }
   ],
   "source": [
    "arr = input('Enter the array of number: ').split(',')\n",
    "arr1 = [float(i) for i in arr]\n",
    "max = arr1[0]\n",
    "for item in arr1:\n",
    "    if item>=max:\n",
    "        max = item\n",
    "print(max)"
   ]
  },
  {
   "cell_type": "code",
   "execution_count": 1,
   "metadata": {},
   "outputs": [
    {
     "data": {
      "text/plain": [
       "[5, 6, 52, 36, 12, 10]"
      ]
     },
     "execution_count": 1,
     "metadata": {},
     "output_type": "execute_result"
    }
   ],
   "source": [
    "list = input('Enter the array: ' ).split(',')           # 12,10,5,6,52,36\n",
    "n = int(input('Enter the break point number: '))\n",
    "list = [int(i) for i in list]\n",
    "list2 = list.copy()                 # otherwise list2 manipulations affect list also\n",
    "#n = 2\n",
    "n2 = len(list)\n",
    "\n",
    "for i in range(n,n2):\n",
    "    list2[i-n] = list2[i]\n",
    "for i in range(0,n):\n",
    "    list2.pop()\n",
    "#print(list)\n",
    "for i in range(0,n):\n",
    "    list2.append(list[i])\n",
    "list2"
   ]
  },
  {
   "cell_type": "code",
   "execution_count": null,
   "metadata": {},
   "outputs": [
    {
     "name": "stdout",
     "output_type": "stream",
     "text": [
      "21\n"
     ]
    }
   ],
   "source": [
    "n = int(input())\n",
    "rev = 0\n",
    "digit = 0\n",
    "while(n>0):\n",
    "    digit = n%10\n",
    "    rev = 10*rev + digit\n",
    "    n = n//10\n",
    "print(rev)"
   ]
  },
  {
   "cell_type": "markdown",
   "metadata": {},
   "source": [
    "Frequency Dictinary"
   ]
  },
  {
   "cell_type": "code",
   "execution_count": 2,
   "metadata": {},
   "outputs": [
    {
     "name": "stdout",
     "output_type": "stream",
     "text": [
      "{'Noodles': 3, 'Tomato Soup': 1, 'Fries': 4, 'Rice': 2, 'Idli': 2, 'Rawa Dosa': 2}\n",
      "Set of food items which were ordered least is {'Tomato Soup'}\n"
     ]
    }
   ],
   "source": [
    "order_history= {161:['Noodles','Tomato Soup','Fries'],162:['Rice','Idli','Rawa Dosa','Fries'],163:['Fries','Noodles'],164:['Rice', 'Idli','Rawa Dosa','Fries','Noodles']}\n",
    "\n",
    "dummy = []                                            # Creating list of all items (they are repeated)\n",
    "for lists in order_history.values():\n",
    "    for items in lists:\n",
    "        dummy.append(items)\n",
    "\n",
    "dummy2 = []                                           # List of removed duplicates\n",
    "for i in dummy:\n",
    "    if i in dummy2:\n",
    "        continue\n",
    "    dummy2.append(i)\n",
    "\n",
    "count = 0                                             # Creating Frequency dictionary 'count1' \n",
    "count1 = {}\n",
    "for i in dummy2:\n",
    "    for j in dummy:\n",
    "        if i == j:\n",
    "            count += 1\n",
    "            count1[i] = count\n",
    "    count = 0\n",
    "print(count1)\n",
    "\n",
    "min(count1.values())                                   # Minimum of Dictionary Values is 1\n",
    "\n",
    "count2 = {i for i,j in count1.items() if j == min(count1.values())}      \n",
    "print('Set of food items which were ordered least is',count2)"
   ]
  },
  {
   "cell_type": "code",
   "execution_count": 1,
   "metadata": {},
   "outputs": [
    {
     "name": "stdout",
     "output_type": "stream",
     "text": [
      "Weight in pounds: 110.23113109 lbs\n",
      "Weight in pounds: 99.208017981 lbs\n",
      "Weight in pounds: 198.416035962 lbs\n",
      "Invalid Weight.\n",
      "Invalid Weight.\n",
      "Weight in pounds: 123.4588668208 lbs\n",
      "Weight in pounds: 99.208017981 lbs\n"
     ]
    }
   ],
   "source": [
    "while True:\n",
    "    try:\n",
    "        weight = float(input('Enter Weight or STOP: '))\n",
    "        if weight < 0:\n",
    "            print('Invalid Weight.')\n",
    "            while True:\n",
    "                weight = float(input('Rectify and enter the weight: '))\n",
    "                if weight < 0:\n",
    "                    print('Invalid Weight.')\n",
    "                else:\n",
    "                    break\n",
    "                \n",
    "        print(f\"Weight in pounds: {round(2.2046226218*weight,10)} lbs\")\n",
    "    except ValueError:\n",
    "        break"
   ]
  }
 ],
 "metadata": {
  "kernelspec": {
   "display_name": "Python 3",
   "language": "python",
   "name": "python3"
  },
  "language_info": {
   "codemirror_mode": {
    "name": "ipython",
    "version": 3
   },
   "file_extension": ".py",
   "mimetype": "text/x-python",
   "name": "python",
   "nbconvert_exporter": "python",
   "pygments_lexer": "ipython3",
   "version": "3.11.1"
  },
  "orig_nbformat": 4
 },
 "nbformat": 4,
 "nbformat_minor": 2
}
