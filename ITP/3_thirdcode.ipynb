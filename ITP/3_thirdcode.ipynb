{
 "cells": [
  {
   "cell_type": "code",
   "execution_count": 1,
   "metadata": {},
   "outputs": [
    {
     "name": "stdout",
     "output_type": "stream",
     "text": [
      "2 3 "
     ]
    }
   ],
   "source": [
    "s = '23a'\n",
    "for i in s:\n",
    "    if i.isdigit() == True:\n",
    "        print(i, end=' ')"
   ]
  },
  {
   "cell_type": "code",
   "execution_count": 2,
   "metadata": {},
   "outputs": [],
   "source": [
    "employee_name = {\"Stokes\",\"Kohli\",\"Dhoni\"}"
   ]
  },
  {
   "cell_type": "code",
   "execution_count": 3,
   "metadata": {},
   "outputs": [
    {
     "data": {
      "text/plain": [
       "{'Dhoni', 'Kohli', 'Stokes'}"
      ]
     },
     "execution_count": 3,
     "metadata": {},
     "output_type": "execute_result"
    }
   ],
   "source": [
    "employee_name"
   ]
  },
  {
   "cell_type": "code",
   "execution_count": 4,
   "metadata": {},
   "outputs": [
    {
     "data": {
      "text/plain": [
       "set"
      ]
     },
     "execution_count": 4,
     "metadata": {},
     "output_type": "execute_result"
    }
   ],
   "source": [
    "type(employee_name)"
   ]
  },
  {
   "cell_type": "code",
   "execution_count": 5,
   "metadata": {},
   "outputs": [],
   "source": [
    "a = 5\n",
    "b = 3\n",
    "c= 30"
   ]
  },
  {
   "cell_type": "code",
   "execution_count": 6,
   "metadata": {},
   "outputs": [
    {
     "data": {
      "text/plain": [
       "7"
      ]
     },
     "execution_count": 6,
     "metadata": {},
     "output_type": "execute_result"
    }
   ],
   "source": [
    "a|b"
   ]
  },
  {
   "cell_type": "code",
   "execution_count": 7,
   "metadata": {},
   "outputs": [
    {
     "data": {
      "text/plain": [
       "'hteenarP3ma2I'"
      ]
     },
     "execution_count": 7,
     "metadata": {},
     "output_type": "execute_result"
    }
   ],
   "source": [
    "string = \"I2am3Praneeth\"\n",
    "string[0:5]\n",
    "len(string[5:13])\n",
    "str1 = string.upper()\n",
    "#string.replace('2','4')\n",
    "#type(string)\n",
    "string[::-1]"
   ]
  },
  {
   "cell_type": "code",
   "execution_count": 8,
   "metadata": {},
   "outputs": [
    {
     "data": {
      "text/plain": [
       "2"
      ]
     },
     "execution_count": 8,
     "metadata": {},
     "output_type": "execute_result"
    }
   ],
   "source": [
    "str1.replace('2','4')\n",
    "str1.count('E')\n",
    "#str2 = str1.replace('PRANEETH','MAHESH')\n",
    "#str2.count('E')"
   ]
  },
  {
   "cell_type": "code",
   "execution_count": 9,
   "metadata": {},
   "outputs": [
    {
     "data": {
      "text/plain": [
       "['Students are John', ' Mac', ' Maddy']"
      ]
     },
     "execution_count": 9,
     "metadata": {},
     "output_type": "execute_result"
    }
   ],
   "source": [
    "s1 = 'I am Praneeth'\n",
    "s1.find('P')\n",
    "s2 = 'Students are John, Mac, Maddy' \n",
    "s2.split(',')"
   ]
  },
  {
   "attachments": {},
   "cell_type": "markdown",
   "metadata": {},
   "source": [
    "Tuples is immutable\n"
   ]
  },
  {
   "cell_type": "code",
   "execution_count": 10,
   "metadata": {},
   "outputs": [
    {
     "data": {
      "text/plain": [
       "3221"
      ]
     },
     "execution_count": 10,
     "metadata": {},
     "output_type": "execute_result"
    }
   ],
   "source": [
    "tup1 = (1,'Praneeth','Faizal',True,False)\n",
    "tup1[1]\n",
    "tup1[1:5]\n",
    "len(tup1)\n",
    "tup2 = (23,'Ali','Dennis', True, 3+7j)\n",
    "tup = tup1+tup2\n",
    "tup3 = (12,345,3222,10,-1,11,53)\n",
    "d = min(tup3)+max(tup3)\n",
    "d"
   ]
  },
  {
   "attachments": {},
   "cell_type": "markdown",
   "metadata": {},
   "source": [
    "Lists are mutable"
   ]
  },
  {
   "cell_type": "code",
   "execution_count": 11,
   "metadata": {},
   "outputs": [
    {
     "data": {
      "text/plain": [
       "[12, 'Surya', 'Rohan', 'Vinay', True, (3+5j), 12]"
      ]
     },
     "execution_count": 11,
     "metadata": {},
     "output_type": "execute_result"
    }
   ],
   "source": [
    "lis1 = [12,'Praneeth','Rohan', True, 3+5j, 12]\n",
    "lis1[1]='Surya'\n",
    "lis2 = ['Zeno','Anj','Karthik']\n",
    "lis1[0:4]\n",
    "#lis1[1] = 15\n",
    "#lis1[2] = 18\n",
    "lis1\n",
    "lis1.append(4-6j)\n",
    "lis1\n",
    "lis1.pop()\n",
    "lis1\n",
    "#lis1.reverse()\n",
    "lis1\n",
    "lis2.sort()\n",
    "lis2\n",
    "lis1.insert(3, 'Vinay')\n",
    "lis1"
   ]
  },
  {
   "attachments": {},
   "cell_type": "markdown",
   "metadata": {},
   "source": [
    "Dictionary"
   ]
  },
  {
   "cell_type": "code",
   "execution_count": 12,
   "metadata": {},
   "outputs": [
    {
     "data": {
      "text/plain": [
       "{'Rahul': 45, 'Sachan': 22, 'Neha': 33, 'Akash': 43, 'Wan': 28}"
      ]
     },
     "execution_count": 12,
     "metadata": {},
     "output_type": "execute_result"
    }
   ],
   "source": [
    "dict = {'Rahul':45, 'Rohan':43, 'Sachan':22}\n",
    "dict.keys()\n",
    "dict.values()\n",
    "dict['Rohan']= 47\n",
    "dict['Neha'] = 33\n",
    "dict1 = {'Akash':43, 'Wan':28}\n",
    "dict.update(dict1)  #Concatenation\n",
    "#dict\n",
    "dict.pop('Rohan')\n",
    "dict"
   ]
  },
  {
   "attachments": {},
   "cell_type": "markdown",
   "metadata": {},
   "source": [
    "Set - Duplicates(Repeatition) is not allowed"
   ]
  },
  {
   "cell_type": "code",
   "execution_count": 13,
   "metadata": {},
   "outputs": [
    {
     "data": {
      "text/plain": [
       "{1, 'Praneeth'}"
      ]
     },
     "execution_count": 13,
     "metadata": {},
     "output_type": "execute_result"
    }
   ],
   "source": [
    "s1 = {1,2,'Praneeth', 'and', 'Ainesh', False, 1}\n",
    "s1\n",
    "s1.add('Bhivi')\n",
    "s1.remove(2)\n",
    "s2 = {5,\"Irina\",'ab', 'Praneeth',1}\n",
    "#s1.update(s2)\n",
    "#s1\n",
    "s1.union(s2)\n",
    "s1.intersection(s2)"
   ]
  },
  {
   "attachments": {},
   "cell_type": "markdown",
   "metadata": {},
   "source": [
    "If statement "
   ]
  },
  {
   "cell_type": "code",
   "execution_count": 14,
   "metadata": {},
   "outputs": [
    {
     "name": "stdout",
     "output_type": "stream",
     "text": [
      "a is less than b\n"
     ]
    }
   ],
   "source": [
    "a = -10\n",
    "b = -20\n",
    "if a%b ==a:\n",
    "    print(\"a is less than b\")\n",
    "\n",
    "else:\n",
    "    print(\"a is greater than b\")\n"
   ]
  },
  {
   "cell_type": "code",
   "execution_count": 15,
   "metadata": {},
   "outputs": [
    {
     "data": {
      "text/plain": [
       "9"
      ]
     },
     "execution_count": 15,
     "metadata": {},
     "output_type": "execute_result"
    }
   ],
   "source": [
    "a = 11\n",
    "b = 20\n",
    "b%a"
   ]
  },
  {
   "cell_type": "code",
   "execution_count": 16,
   "metadata": {},
   "outputs": [
    {
     "name": "stdout",
     "output_type": "stream",
     "text": [
      "1th element is 1\n",
      "2th element is 4\n",
      "3th element is 3\n",
      "4th element is 7\n",
      "5th element is 9\n",
      "6th element is 10\n"
     ]
    }
   ],
   "source": [
    "tup = (1,4,3,7,9,10)\n",
    "i = 0\n",
    "for i in range (i,len(tup)):\n",
    "    print(f\"{i+1}th element is {tup[i]}\")\n"
   ]
  },
  {
   "cell_type": "code",
   "execution_count": 17,
   "metadata": {},
   "outputs": [
    {
     "data": {
      "text/plain": [
       "24"
      ]
     },
     "execution_count": 17,
     "metadata": {},
     "output_type": "execute_result"
    }
   ],
   "source": [
    "n = 4\n",
    "res = 1\n",
    "i = 1\n",
    "while(i<=n):\n",
    "    res = res*i\n",
    "    i += 1\n",
    "\n",
    "res"
   ]
  },
  {
   "cell_type": "code",
   "execution_count": 18,
   "metadata": {},
   "outputs": [
    {
     "data": {
      "text/plain": [
       "[101, 102, 103, 104, 105]"
      ]
     },
     "execution_count": 18,
     "metadata": {},
     "output_type": "execute_result"
    }
   ],
   "source": [
    "list = [1,2,3,4,5]\n",
    "i = 0\n",
    "for i in range(0,len(list)):\n",
    "    list[i] = list[i]+100\n",
    "list    "
   ]
  },
  {
   "cell_type": "code",
   "execution_count": 19,
   "metadata": {},
   "outputs": [
    {
     "name": "stdout",
     "output_type": "stream",
     "text": [
      "richard\n",
      "antony\n",
      "ezio\n"
     ]
    }
   ],
   "source": [
    "list1 = ['richard','antony','ezio']\n",
    "\n",
    "for i in list1:\n",
    "    print(i)"
   ]
  },
  {
   "cell_type": "code",
   "execution_count": 20,
   "metadata": {},
   "outputs": [
    {
     "name": "stdout",
     "output_type": "stream",
     "text": [
      "Number is Even\n"
     ]
    }
   ],
   "source": [
    "n = int(input(\"Enter the number: \"))\n",
    "if n%2 == 0:\n",
    "    print(\"Number is Even\")\n",
    "else: print(\"Number is Odd\")"
   ]
  },
  {
   "cell_type": "code",
   "execution_count": 21,
   "metadata": {},
   "outputs": [
    {
     "name": "stdout",
     "output_type": "stream",
     "text": [
      "negative\n"
     ]
    }
   ],
   "source": [
    "n = float(input(\"Enter the number:\"))\n",
    "if n>0:\n",
    "    print('positive')\n",
    "elif n==0:\n",
    "    print('zero')\n",
    "else:print('negative')"
   ]
  },
  {
   "cell_type": "code",
   "execution_count": 22,
   "metadata": {},
   "outputs": [
    {
     "name": "stdout",
     "output_type": "stream",
     "text": [
      "5040\n"
     ]
    }
   ],
   "source": [
    "n = int(input(\"Enter the number:\"))\n",
    "def factorial(n):\n",
    "    res = 1\n",
    "    if n==0 & n==1:\n",
    "        return 1\n",
    "    else:\n",
    "        for i in range(1,n+1):\n",
    "            res = res*i\n",
    "    return res\n",
    "print(factorial(n))"
   ]
  },
  {
   "cell_type": "code",
   "execution_count": 23,
   "metadata": {},
   "outputs": [
    {
     "name": "stdout",
     "output_type": "stream",
     "text": [
      "It is a palindrome\n"
     ]
    }
   ],
   "source": [
    "n = int(input(\"Enter the number: \"))\n",
    "temp = n\n",
    "rev=0\n",
    "while (n>0):\n",
    "    dig = n%10\n",
    "    rev = 10*rev + dig\n",
    "    n = int(n/10)\n",
    "rev\n",
    "\n",
    "if temp == rev: print(\"It is a palindrome\")\n",
    "else : print(\"It is not a palindrome\")"
   ]
  },
  {
   "cell_type": "code",
   "execution_count": 24,
   "metadata": {},
   "outputs": [
    {
     "name": "stdout",
     "output_type": "stream",
     "text": [
      "[1, 2, 4, 5, 10, 20, 25, 50]\n"
     ]
    }
   ],
   "source": [
    "n = int(input(\"Enter the number: \"))\n",
    "l1 = []\n",
    "for i in range(1,n):\n",
    "    if(n%i == 0):\n",
    "        l1.append(i)\n",
    "        \n",
    "\n",
    "#print(f\"{l1}\")\n",
    "print(l1)\n",
    "        "
   ]
  },
  {
   "cell_type": "code",
   "execution_count": 25,
   "metadata": {},
   "outputs": [
    {
     "name": "stdout",
     "output_type": "stream",
     "text": [
      "[4, 6]\n"
     ]
    }
   ],
   "source": [
    "l1 = input(\"Enter the numbers: \").split(',')\n",
    "\n",
    "for i in range(0,len(l1)):\n",
    "    l1[i] = 2*int(l1[i])\n",
    "print(f\"{l1}\")\n"
   ]
  },
  {
   "cell_type": "code",
   "execution_count": 26,
   "metadata": {},
   "outputs": [
    {
     "name": "stdout",
     "output_type": "stream",
     "text": [
      "[6, 8]\n"
     ]
    }
   ],
   "source": [
    "l1 = input(\"Enter the numbers: \").split(',')\n",
    "\n",
    "for i in range(0,len(l1)):\n",
    "    l1[i] = 2*(int(l1[i]))\n",
    "print(f\"{l1}\")\n"
   ]
  },
  {
   "cell_type": "code",
   "execution_count": 27,
   "metadata": {},
   "outputs": [
    {
     "data": {
      "text/plain": [
       "24.5"
      ]
     },
     "execution_count": 27,
     "metadata": {},
     "output_type": "execute_result"
    }
   ],
   "source": [
    "x=y=z=4\n",
    "x+y+z \n",
    "a,b,c = 22,2.5,'I am Praneeth'\n",
    "a+b"
   ]
  },
  {
   "cell_type": "code",
   "execution_count": 28,
   "metadata": {},
   "outputs": [
    {
     "data": {
      "text/plain": [
       "'efg'"
      ]
     },
     "execution_count": 28,
     "metadata": {},
     "output_type": "execute_result"
    }
   ],
   "source": [
    "a = 3+5j\n",
    "a.imag\n",
    "b = 1.6e4\n",
    "c = 10>9\n",
    "c\n",
    "d='abcd'\n",
    "#d[1:-1]\n",
    "e = 'efgh'\n",
    "(d+e)[4:7]\n"
   ]
  },
  {
   "cell_type": "code",
   "execution_count": 29,
   "metadata": {},
   "outputs": [
    {
     "name": "stdout",
     "output_type": "stream",
     "text": [
      "a = 2\n",
      "\n",
      "b = 3\n",
      "2,3#"
     ]
    }
   ],
   "source": [
    "int(True)\n",
    "str(True)\n",
    "a = 2\n",
    "b = 3\n",
    "print(\"a =\", a, end='\\n\\n')\n",
    "print(\"b =\", b)\n",
    "print(a,b,sep=',',end='#')\n"
   ]
  },
  {
   "cell_type": "code",
   "execution_count": 30,
   "metadata": {},
   "outputs": [
    {
     "data": {
      "text/plain": [
       "True"
      ]
     },
     "execution_count": 30,
     "metadata": {},
     "output_type": "execute_result"
    }
   ],
   "source": [
    "a = 2\n",
    "b = 10\n",
    "a**b\n",
    "l1 = [1,2,3,4,5,6]\n",
    "b not in l1\n",
    "bool(-3.14)"
   ]
  },
  {
   "cell_type": "code",
   "execution_count": 31,
   "metadata": {},
   "outputs": [
    {
     "data": {
      "text/plain": [
       "10"
      ]
     },
     "execution_count": 31,
     "metadata": {},
     "output_type": "execute_result"
    }
   ],
   "source": [
    "a = 7\n",
    "~a\n",
    "b = -11\n",
    "~b"
   ]
  }
 ],
 "metadata": {
  "kernelspec": {
   "display_name": "Python 3",
   "language": "python",
   "name": "python3"
  },
  "language_info": {
   "codemirror_mode": {
    "name": "ipython",
    "version": 3
   },
   "file_extension": ".py",
   "mimetype": "text/x-python",
   "name": "python",
   "nbconvert_exporter": "python",
   "pygments_lexer": "ipython3",
   "version": "3.12.0"
  },
  "orig_nbformat": 4
 },
 "nbformat": 4,
 "nbformat_minor": 2
}
