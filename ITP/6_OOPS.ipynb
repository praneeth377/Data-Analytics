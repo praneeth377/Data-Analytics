{
 "cells": [
  {
   "attachments": {},
   "cell_type": "markdown",
   "metadata": {},
   "source": [
    "Class and Instance Attributes\n"
   ]
  },
  {
   "cell_type": "code",
   "execution_count": 1,
   "metadata": {},
   "outputs": [
    {
     "name": "stdout",
     "output_type": "stream",
     "text": [
      "black 4 Pet Animal\n",
      "white 4 Pet Animal\n"
     ]
    }
   ],
   "source": [
    "class Animal:\n",
    "    \"Animal entity\"\n",
    "    name = \"Animal\"  # Class Attribute\n",
    "    def __init__(self, color, noOflegs, type, canFly):  # instance attribute\n",
    "        self.color = color\n",
    "        self.noOflegs = noOflegs\n",
    "        self.type = type\n",
    "        self.canFly = canFly\n",
    "\n",
    "\n",
    "cat = Animal(\"black\", 4, \"pet\", False)\n",
    "dog = Animal(\"white\", 4, \"pet\", True)\n",
    "\n",
    "Animal.name = \"Pet Animal\"\n",
    "\n",
    "print(cat.color, cat.noOflegs, cat.name)\n",
    "print(dog.color, dog.noOflegs, dog.name)"
   ]
  },
  {
   "cell_type": "code",
   "execution_count": 2,
   "metadata": {},
   "outputs": [
    {
     "name": "stdout",
     "output_type": "stream",
     "text": [
      "puffy is running\n",
      "puffy is eating 30 cheese\n",
      "pluto is eating 2 bone\n"
     ]
    }
   ],
   "source": [
    "class Animal:\n",
    "    \"Animal Entity\"\n",
    "    def __init__(self, name, color, canFly):                 # init is constructor\n",
    "        self.name = name\n",
    "        self.color = color\n",
    "        self.canFly = canFly\n",
    "    \n",
    "    def run(self):                                           # method 1\n",
    "        print(self.name, \"is running\")\n",
    "\n",
    "    def eat(self, eatable, qty):                             # method 2\n",
    "        print(f\"{self.name} is eating {qty} {eatable}\")\n",
    "\n",
    "cat = Animal(\"puffy\", \"grey\", False)\n",
    "dog = Animal(\"pluto\", \"black\", False)\n",
    "cat.run()\n",
    "cat.eat(\"cheese\", 30)\n",
    "dog.eat(\"bone\", 2)"
   ]
  },
  {
   "attachments": {},
   "cell_type": "markdown",
   "metadata": {},
   "source": [
    "Single Level Inheritance"
   ]
  },
  {
   "cell_type": "code",
   "execution_count": 5,
   "metadata": {},
   "outputs": [
    {
     "name": "stdout",
     "output_type": "stream",
     "text": [
      "Alex with code 123\n"
     ]
    }
   ],
   "source": [
    "class Employee:\n",
    "    def __init__(self, name, code):\n",
    "        self.name = name\n",
    "        self.code = code\n",
    "\n",
    "    def display(self):\n",
    "        print(f\"{self.name} with code {self.code}\")\n",
    "\n",
    "class Faculty(Employee):\n",
    "    def __init__(self, name, code, dept):\n",
    "#        self.name = name --- They cause redundancy\n",
    "#        self.code = code\n",
    "        super().__init__(name, code)\n",
    "        self.dept = dept\n",
    "\n",
    "Alex = Faculty(\"Alex\", \"123\", \"CS\")\n",
    "Alex.display()\n",
    "\n"
   ]
  },
  {
   "attachments": {},
   "cell_type": "markdown",
   "metadata": {},
   "source": [
    "Multi-level Inheritance"
   ]
  },
  {
   "cell_type": "code",
   "execution_count": 12,
   "metadata": {},
   "outputs": [
    {
     "name": "stdout",
     "output_type": "stream",
     "text": [
      "This is an Employee\n",
      "This is an Faculty\n",
      "This is an HOD\n",
      "Employee\n"
     ]
    }
   ],
   "source": [
    "class Employee:\n",
    "    type = \"Employee\"\n",
    "    def __init__(self):\n",
    "        print(\"This is an Employee\")\n",
    "\n",
    "class Faculty(Employee):\n",
    "#    type = \"Faculty\"\n",
    "    def __init__(self):\n",
    "        super().__init__()\n",
    "        print(\"This is an Faculty\")\n",
    "\n",
    "class HOD(Faculty):\n",
    "#    type = \"HOD\"\n",
    "    def __init__(self):\n",
    "        super().__init__()            # This line is a constructor which calls it's super class\n",
    "        print(\"This is an HOD\")\n",
    "\n",
    "ob = HOD()\n",
    "print(ob.type)"
   ]
  },
  {
   "attachments": {},
   "cell_type": "markdown",
   "metadata": {},
   "source": [
    "Multiple Inheritance"
   ]
  },
  {
   "cell_type": "code",
   "execution_count": 16,
   "metadata": {},
   "outputs": [
    {
     "name": "stdout",
     "output_type": "stream",
     "text": [
      "ABC\n"
     ]
    }
   ],
   "source": [
    "class Employee:\n",
    "    college_name = \"ABC\"\n",
    "\n",
    "class SME:\n",
    "    college_name = \"XYZ\"\n",
    "\n",
    "class Faculty(SME, Employee):                 # Python follows Method Resolution Order. Left to Right\n",
    "    def get_name(self):\n",
    "        return Employee.college_name \n",
    "\n",
    "ob = Faculty()\n",
    "print(ob.get_name())"
   ]
  },
  {
   "attachments": {},
   "cell_type": "markdown",
   "metadata": {},
   "source": [
    "Hierarchial Inheritance"
   ]
  },
  {
   "cell_type": "code",
   "execution_count": 20,
   "metadata": {},
   "outputs": [
    {
     "name": "stdout",
     "output_type": "stream",
     "text": [
      "12\n",
      "13\n"
     ]
    }
   ],
   "source": [
    "class Employee:\n",
    "    def __init__(self, empno):\n",
    "        self.empno = empno\n",
    "\n",
    "    def get_empno(self):\n",
    "        return self.empno\n",
    "    \n",
    "class Faculty(Employee):\n",
    "    pass\n",
    "\n",
    "class Admin(Employee):\n",
    "    pass\n",
    "\n",
    "ob1 = Faculty(12)\n",
    "ob2 = Admin(13)\n",
    "print(ob1.get_empno())\n",
    "print(ob2.get_empno())"
   ]
  },
  {
   "attachments": {},
   "cell_type": "markdown",
   "metadata": {},
   "source": [
    "Polymorphism"
   ]
  },
  {
   "cell_type": "code",
   "execution_count": 26,
   "metadata": {},
   "outputs": [
    {
     "name": "stdout",
     "output_type": "stream",
     "text": [
      "This is B\n"
     ]
    }
   ],
   "source": [
    "class A:\n",
    "    def display(self):\n",
    "        print(\"This is A\")\n",
    "\n",
    "class B(A):                 # Though parent is called, override has happened. Since display is in class B, it displays that only. \n",
    "    def display(self):\n",
    "        print(\"This is B\")\n",
    "\n",
    "#ob_A = A()\n",
    "ob_B = B()\n",
    "\n",
    "#ob_A.display()\n",
    "ob_B.display()              # Display plays different functions, so polymorphism\n",
    "\n"
   ]
  },
  {
   "attachments": {},
   "cell_type": "markdown",
   "metadata": {},
   "source": [
    "Encapsulation"
   ]
  },
  {
   "cell_type": "code",
   "execution_count": 36,
   "metadata": {},
   "outputs": [
    {
     "name": "stdout",
     "output_type": "stream",
     "text": [
      "123\n"
     ]
    }
   ],
   "source": [
    "class SavingAcc:\n",
    "    __accno = 123\n",
    "\n",
    "    def get_accno(self):\n",
    "        return self.__accno\n",
    "\n",
    "ob = SavingAcc()\n",
    "#print(ob.__accno) -- Encapsulation is present\n",
    "#print(ob.get_accno()) -- Can use get__accno to override encapsulation\n",
    "print(ob._SavingAcc__accno)   # To print encapsuled attribute.  "
   ]
  },
  {
   "attachments": {},
   "cell_type": "markdown",
   "metadata": {},
   "source": [
    "Abstraction"
   ]
  },
  {
   "cell_type": "code",
   "execution_count": 39,
   "metadata": {},
   "outputs": [
    {
     "name": "stdout",
     "output_type": "stream",
     "text": [
      "This is Pulsar run implementation\n",
      "This is Honda run implementation\n"
     ]
    }
   ],
   "source": [
    "from abc import ABC, abstractmethod\n",
    "\n",
    "class Bike(ABC):\n",
    "\n",
    "    @abstractmethod\n",
    "    def run(self):\n",
    "        pass\n",
    "\n",
    "class Pulsar(Bike):\n",
    "    def run(self):\n",
    "        print(\"This is Pulsar run implementation\")\n",
    "\n",
    "class Honda(Bike):\n",
    "    def run(self):\n",
    "        print(\"This is Honda run implementation\")\n",
    "\n",
    "ob1 = Pulsar()\n",
    "ob1.run()\n",
    "\n",
    "ob2 = Honda()\n",
    "ob2.run()"
   ]
  }
 ],
 "metadata": {
  "kernelspec": {
   "display_name": "Python 3",
   "language": "python",
   "name": "python3"
  },
  "language_info": {
   "codemirror_mode": {
    "name": "ipython",
    "version": 3
   },
   "file_extension": ".py",
   "mimetype": "text/x-python",
   "name": "python",
   "nbconvert_exporter": "python",
   "pygments_lexer": "ipython3",
   "version": "3.11.1"
  },
  "orig_nbformat": 4
 },
 "nbformat": 4,
 "nbformat_minor": 2
}
