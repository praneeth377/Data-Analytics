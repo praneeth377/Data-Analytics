{
 "cells": [
  {
   "cell_type": "markdown",
   "metadata": {},
   "source": [
    "<table align=\"left\" width=100%>\n",
    "    <tr>\n",
    "        <td width=\"20%\">\n",
    "            <img src=\"GL-2.png\">\n",
    "        </td>\n",
    "        <td>\n",
    "            <div align=\"center\">\n",
    "                <font color=\"#21618C\" size=8px>\n",
    "                  <b> Final Exam<br> </b>\n",
    "                </font>\n",
    "            </div>\n",
    "        </td>\n",
    "    </tr>\n",
    "</table>"
   ]
  },
  {
   "cell_type": "markdown",
   "metadata": {},
   "source": [
    "# INTRODUCTION TO PYTHON"
   ]
  },
  {
   "cell_type": "markdown",
   "metadata": {},
   "source": [
    "\n",
    "## Total Marks : 70 Marks"
   ]
  },
  {
   "cell_type": "markdown",
   "metadata": {},
   "source": [
    "----"
   ]
  },
  {
   "cell_type": "markdown",
   "metadata": {},
   "source": [
    "# SECTION A: 20 MARKS"
   ]
  },
  {
   "cell_type": "markdown",
   "metadata": {},
   "source": [
    " _________________"
   ]
  },
  {
   "cell_type": "markdown",
   "metadata": {},
   "source": [
    "### Q1.  Write a program that asks the user to enter size of the list, then do the following: (5Marks)\n",
    "(a) if size of the list is less than 4 then print a message to user \"Invalid size and enter a size more than 4\". The program will continue from begining.\n",
    "\n",
    "(b) After taking valid size , program should take list items from user and create user defined list. \n",
    "\n",
    "(c) Use the choice() function to print out random item from the list.\n",
    "\n",
    "(d) Use the sample() function to print out three random items from the list.\n",
    "\n",
    "(e) Use the shuffle() function to reorder the list and then print out the list.\n",
    "\n",
    "\n",
    "**Choice(),shuffle(),sample() functions are defined under random library. You need to import random library to use it.**\n",
    "\n",
    "***\n",
    "#### Sample Input/Output:\n",
    "\n",
    "\n",
    "<span style=\"font-family:consolas \">\n",
    "\n",
    "Enter number of elements in the list: 3\n",
    "\n",
    "Invalid size and enter a size more than 4\n",
    "\n",
    "Enter number of elements in the list: 5\n",
    "\n",
    "1\n",
    "\n",
    "2\n",
    "\n",
    "3\n",
    "\n",
    "4\n",
    "\n",
    "5\n",
    "\n",
    "Random item from the list:  1\n",
    "\n",
    "Three random items from the list: ['1', '4', '2']\n",
    "\n",
    "Shuffeled list: ['3', '4', '5', '1', '2']\n",
    "\n",
    "***"
   ]
  },
  {
   "cell_type": "code",
   "execution_count": 19,
   "metadata": {},
   "outputs": [
    {
     "name": "stdout",
     "output_type": "stream",
     "text": [
      "Invalid Size. Size should be atleast 4.\n",
      "1\n",
      "2\n",
      "3\n",
      "4\n",
      "5\n",
      "Random item from the list: 5\n",
      "Three random items from the list: [2, 1, 4]\n",
      "Shuffeled list: [4, 5, 1, 3, 2]\n"
     ]
    }
   ],
   "source": [
    "import random\n",
    "list = []\n",
    "size = int(input('Enter number of elements in the list: '))\n",
    "if size<4:\n",
    "    print('Invalid Size. Size should be atleast 4.')\n",
    "    while True:\n",
    "        size = int(input('Rectify and enter number of elements in the list: '))\n",
    "        if size<4:\n",
    "            print('Invalid Size. Size should be atleast 4.')\n",
    "        else:\n",
    "            break\n",
    "\n",
    "\n",
    "for i in range(size):\n",
    "    a = int(input())\n",
    "    print(a)\n",
    "    list.append(a)\n",
    "\n",
    "print(f\"Random item from the list: {random.choice(list)}\")\n",
    "print(f\"Three random items from the list: {random.sample(list,3)}\")\n",
    "list1 = list\n",
    "random.shuffle(list1)\n",
    "print(f\"Shuffeled list: {list1}\")"
   ]
  },
  {
   "cell_type": "markdown",
   "metadata": {},
   "source": [
    "### Q2. Ask the user for a number and then print the following, where the pattern ends at the number that the user enters.\n",
    "<pre>\n",
    "1\n",
    " 2\n",
    "  3\n",
    "   4\n",
    "    5\n",
    "   4\n",
    "  3\n",
    " 2\n",
    "1\n",
    "</pre>\n",
    "\n",
    "***\n",
    "#### Sample Input/Output:\n",
    "\n",
    "***"
   ]
  },
  {
   "cell_type": "raw",
   "metadata": {},
   "source": [
    "Enter the number: 5\n",
    "1\n",
    " 2\n",
    "  3\n",
    "   4\n",
    "    5\n",
    "   4\n",
    "  3\n",
    " 2\n",
    "1"
   ]
  },
  {
   "cell_type": "code",
   "execution_count": null,
   "metadata": {},
   "outputs": [
    {
     "name": "stdout",
     "output_type": "stream",
     "text": [
      "1\n",
      " 2\n",
      "  3\n",
      "   4\n",
      "    5\n",
      "   4\n",
      "  3\n",
      " 2\n",
      "1\n"
     ]
    }
   ],
   "source": [
    "n = int(input('Enter the number: '))\n",
    "s = ' '\n",
    "for i in range(n):\n",
    "    print(f\"{s*i}{i+1}\")\n",
    "    s = ' '\n",
    "s = ' '\n",
    "\n",
    "for i in range(n-1,0,-1):\n",
    "    print(f\"{s*(i-1)}{i}\")\n",
    "    s = ' '\n"
   ]
  },
  {
   "cell_type": "markdown",
   "metadata": {},
   "source": [
    "### Q3.Write a program to validate the data entered by its user and then perform conversion from kilogram to pounds. Write a program that asks the user for a weight and converts it from kilograms to pounds. Whenever the user enters a weight below 0, the program should tell them that their entry is invalid and then ask them again to enter a weight. At the end it should show a weight converted into pounds. do this repeatedly untill user enters 'STOP' [use of IF statement is restricated here] (5 marks)\n",
    "\n",
    "\n",
    "***\n",
    "#### Sample Input/Output:\n",
    "\n",
    "Enter Weight or enter STOP: 10\n",
    "\n",
    "Weight in pounds:  22.046226218 lbs\n",
    "\n",
    "Enter Weight: 50\n",
    "\n",
    "Weight in pounds:  110.23113109 lbs\n",
    "\n",
    "Enter Weight: 45\n",
    "\n",
    "Weight in pounds:  99.208017981 lbs\n",
    "\n",
    "Enter Weight: 62\n",
    "\n",
    "Weight in pounds:  136.6866025516 lbs\n",
    "\n",
    "Enter Weight: STOP\n",
    "\n",
    "***"
   ]
  },
  {
   "cell_type": "code",
   "execution_count": null,
   "metadata": {},
   "outputs": [
    {
     "name": "stdout",
     "output_type": "stream",
     "text": [
      "Weight in pounds: 136.6866025516 lbs\n",
      "Weight in pounds: 110.23113109 lbs\n",
      "Weight in pounds: 99.208017981 lbs\n",
      "Invalid Weight.\n",
      "Invalid Weight.\n",
      "Weight in pounds: 191.8021680966 lbs\n"
     ]
    }
   ],
   "source": [
    "while True:\n",
    "    try:\n",
    "        weight = float(input('Enter Weight or STOP: '))\n",
    "        if weight < 0:\n",
    "            print('Invalid Weight.')\n",
    "            while True:\n",
    "                weight = float(input('Rectify and enter the weight: '))\n",
    "                if weight < 0:\n",
    "                    print('Invalid Weight.')\n",
    "                else:\n",
    "                    break\n",
    "                \n",
    "        print(f\"Weight in pounds: {round(2.2046226218*weight,10)} lbs\")\n",
    "    except ValueError:\n",
    "        break"
   ]
  },
  {
   "cell_type": "markdown",
   "metadata": {},
   "source": [
    "### Q4. Ask the user to enter a list of 10 elemnts containing numbers between 1 and 15. Then replace all of the entries in the list that are greater than 10, with 10 using map() function.(5 Marks)\n",
    "\n",
    "\n",
    "***\n",
    "#### Sample Input/Output:\n",
    "\n",
    "Enter a number between 1 to 15: 3\n",
    "\n",
    "Enter a number between 1 to 15: 13\n",
    "\n",
    "Enter a number between 1 to 15: 7\n",
    "\n",
    "Enter a number between 1 to 15: 12\n",
    "\n",
    "Enter a number between 1 to 15: 13\n",
    "\n",
    "Enter a number between 1 to 15: 4\n",
    "\n",
    "Enter a number between 1 to 15: 5\n",
    "\n",
    "Enter a number between 1 to 15: 6\n",
    "\n",
    "Enter a number between 1 to 15: 17\n",
    "\n",
    "Enter a number between 1 to 15: 18\n",
    "\n",
    "Output list :  [3, 10, 7, 10, 10, 4, 5, 6, 10, 10]\n",
    "\n",
    "***"
   ]
  },
  {
   "cell_type": "code",
   "execution_count": null,
   "metadata": {},
   "outputs": [
    {
     "name": "stdout",
     "output_type": "stream",
     "text": [
      "Output List: [2, 4, 10, 10, 10, 3, 2, 6, 10, 3]\n"
     ]
    }
   ],
   "source": [
    "list1 = []\n",
    "for i in range(10):\n",
    "    list1.append(int(input('Enter a number between 1 to 15: ')))\n",
    "\n",
    "output_list = list(map(lambda x : 10 if x>10 else x, list1))\n",
    "print('Output List:', output_list)"
   ]
  },
  {
   "cell_type": "markdown",
   "metadata": {},
   "source": [
    "# SECTION B: 20 MARKS"
   ]
  },
  {
   "cell_type": "markdown",
   "metadata": {},
   "source": [
    "---------------------"
   ]
  },
  {
   "cell_type": "markdown",
   "metadata": {},
   "source": [
    "### Q5. A superstore has multiple items to sell. These items are categorised as  category A and category B. For festival time the superstore decided to declare some discount, as given below. \n",
    "\n",
    "### for category A items, it charges Rs.15 per item if you buy less than 30 quantity of an item. If you buy between 30 and 99 quantity of an item, the cost is Rs.12 per item. If buying quantity is 100 or more for an item, the cost is Rs.10 per item. \n",
    "\n",
    "### For category B items, it charges Rs.30 per item if you buy less than 50 quantity of an item. If you buy between 50 and 99 quantity of an item, the cost is Rs.25 per item. If buying quantity is 100 or more for an item, the cost is Rs.20 per item. Further it also gives discount of 5% if total bill exceeds 1000 and 10% if bill exceeds 1500.\n",
    "\n",
    "### Write a program which repeatedly ask user to enter no of items and its category. If user enters 'STOP' it shows user has done with the purchase, now calculate total payable amount and display it to user(10 Marks)\n",
    "\n",
    "\n",
    "***\n",
    "#### Sample Input/Output:\n",
    "Enter no of items and its category: 23,A\n",
    "\n",
    "Enter no of items and its category: 56, b\n",
    "\n",
    "Enter no of items and its category: 67,b\n",
    "\n",
    "Enter no of items and its category: 110,a\n",
    "\n",
    "Enter no of items and its category: STOP\n",
    "\n",
    "Total amount payable is :  2808.0\n",
    "\n",
    "***"
   ]
  },
  {
   "cell_type": "code",
   "execution_count": null,
   "metadata": {},
   "outputs": [
    {
     "name": "stdout",
     "output_type": "stream",
     "text": [
      "4068.0\n"
     ]
    }
   ],
   "source": [
    "list = []\n",
    "while True:\n",
    "    try:\n",
    "        items,cat = input('Enter no. of items and its category: ').split(',')\n",
    "        list.append([cat,int(items)])    \n",
    "    except ValueError:\n",
    "        break\n",
    "\n",
    "count = 0\n",
    "for items in list:\n",
    "    if items[0] == 'a' or items[0] == 'A':\n",
    "        if items[1] <= 30:\n",
    "            count += items[1]*15\n",
    "        elif items[1]>30 and items[1]<=99:\n",
    "            count += items[1]*12\n",
    "        else:\n",
    "            count += items[1]*10\n",
    "\n",
    "    else:\n",
    "        if items[1] <= 50:\n",
    "            count += items[1]*30\n",
    "        elif items[1]>50 and items[1]<=99:\n",
    "            count += items[1]*25\n",
    "        else:\n",
    "            count += items[1]*20\n",
    "\n",
    "if count >= 1000 and count < 1500:\n",
    "    count = count*0.95\n",
    "elif count >= 1500:\n",
    "    count = count*0.9\n",
    "\n",
    "print(count)\n"
   ]
  },
  {
   "cell_type": "markdown",
   "metadata": {},
   "source": [
    "### Q6.Create a 5*5  list of numbers from 1 to 10 using list comprehension. Print the nested list. \n",
    "### Create a dictionary whose keys are the numbers and whose values are the frequencies of the number in the nested list mentined above\n",
    "### Print the dictionary in the descending order of frequencies of the numbers. \n",
    "### Then print the three most common numbers.(10 Marks) \n",
    "\n",
    "\n",
    "***\n",
    "#### Sample Input/Output:\n",
    "\n",
    "5 * 5 nested list : \n",
    "[[10, 3, 10, 9, 4], [1, 6, 1, 2, 5], [4, 1, 5, 9, 7], [9, 7, 5, 4, 1], [8, 7, 3, 3, 3]]\n",
    "\n",
    "\n",
    "Dictionary for number and its frequency : \n",
    "{1: 4, 2: 1, 3: 4, 4: 3, 5: 3, 6: 1, 7: 3, 8: 1, 9: 3, 10: 2}\n",
    "\n",
    "\n",
    "Dictionary in descending order of frequency : \n",
    "{1: 4, 3: 4, 4: 3, 5: 3, 7: 3, 9: 3, 10: 2, 2: 1, 6: 1, 8: 1}\n",
    "\n",
    "\n",
    "Top three frequent numbers are [1, 3, 4]\n",
    "\n",
    "***"
   ]
  },
  {
   "cell_type": "code",
   "execution_count": null,
   "metadata": {},
   "outputs": [
    {
     "name": "stdout",
     "output_type": "stream",
     "text": [
      "Dictionary for number and its frequency : {2: 2, 3: 1, 4: 3, 5: 2, 6: 1, 7: 4, 8: 3, 9: 1, 10: 3}\n",
      "Dictionary in Descending order of frequency :  {7: 4, 4: 3, 8: 3, 10: 3, 2: 2, 5: 2, 3: 1, 6: 1, 9: 1}\n",
      "Top three frequent numbers are [7, 4, 8]\n"
     ]
    }
   ],
   "source": [
    "import random\n",
    "list = [[i for i in random.sample(range(1,11),5)] for j in range(0,4)]\n",
    "list1 = []\n",
    "for i in list:\n",
    "    for j in i:\n",
    "        list1.append(j)\n",
    "\n",
    "dict1 = {}\n",
    "for i in set(list1):\n",
    "    dict1[i] = list1.count(i)\n",
    "\n",
    "print('Dictionary for number and its frequency :',dict1)\n",
    "dict2 = dict(sorted(dict1.items(), key=lambda x: x[1], reverse=True))\n",
    "print('Dictionary in Descending order of frequency : ',dict2)\n",
    "list3 = []\n",
    "for i in dict2.keys():\n",
    "    list3.append(i)\n",
    "print('Top three frequent numbers are',list3[0:3])"
   ]
  },
  {
   "cell_type": "code",
   "execution_count": null,
   "metadata": {},
   "outputs": [
    {
     "name": "stdout",
     "output_type": "stream",
     "text": [
      "('a', 1)\n",
      "('b', 2)\n",
      "('c', 3)\n"
     ]
    }
   ],
   "source": [
    "dict = {'a':1,'b':2,'c':3}\n",
    "for i in dict.items():\n",
    "    print(i)"
   ]
  },
  {
   "cell_type": "markdown",
   "metadata": {},
   "source": [
    "# SECTION C: 30 MARKS"
   ]
  },
  {
   "cell_type": "markdown",
   "metadata": {},
   "source": [
    "--------------------"
   ]
  },
  {
   "cell_type": "markdown",
   "metadata": {},
   "source": [
    "### Q7. One way of encrypting a string message is to rearrange its characters. Simple way to rearrange the characters is to pick out the characters at even indices, put them first in the encrypted string and follow them by the odd characters.\n",
    "#### For example, the string message would be encrypted as msaeesg because the even characters are m, s, a, e (at indices 0, 2, 4, and 6) and the odd characters are e, s, g (at indices 1, 3, and 5).\n",
    "#### (a) Write a function encrypt()to encrypt the string given by user.\n",
    "#### (b) Write a function decrypt() to decrypt a string that was encrypted before.(15 Marks)\n",
    "\n",
    "\n",
    "***\n",
    "#### Sample Input/Output:\n",
    "<span style=\"font-family:consolas \">\n",
    "Encrypted message is :  SceMsaeertesg\n",
    "    \n",
    "Decrypted message is :  SecretMessage\n",
    "***"
   ]
  },
  {
   "cell_type": "code",
   "execution_count": null,
   "metadata": {},
   "outputs": [
    {
     "name": "stdout",
     "output_type": "stream",
     "text": [
      "Encrypted message is : Eccoeinylpda\n",
      "Decrypted message is : Encyclopedia\n"
     ]
    }
   ],
   "source": [
    "def Encrypt(s):\n",
    "    list1 = []\n",
    "    for i in s:\n",
    "        list1.append(i)\n",
    "    n = len(list1)\n",
    "    list_even = list1[0:n:2]\n",
    "    list_odd = list1[1:n:2]\n",
    "    list_enc = list_even+list_odd\n",
    "    str = ''\n",
    "    for i in list_enc:\n",
    "        str += i\n",
    "    return str\n",
    "\n",
    "def Decrypt(s):\n",
    "    n = len(s)\n",
    "    str_even = s[0:n//2+(n%2)]\n",
    "    #print(str_even)\n",
    "    str_odd = s[n//2+(n%2):n]\n",
    "    #print(str_odd)\n",
    "    str = ''\n",
    "    for i in range(n//2):\n",
    "        str = str+str_even[i]+str_odd[i]\n",
    "\n",
    "    if len(str) != n:\n",
    "        str = str + str_even[-1]\n",
    "    return str\n",
    "\n",
    "s = input('Enter the message: ')\n",
    "print('Encrypted message is :',Encrypt(s))\n",
    "print('Decrypted message is :',Decrypt(Encrypt(s)))"
   ]
  },
  {
   "cell_type": "markdown",
   "metadata": {},
   "source": [
    "### Q8. Write a program that checks to see if a 4 * 4 list is a magic square. In a magic square, every row, column, and the two diagonals add up to the same value. Write a function magic_square which returns True if list is magic square otherwise it returns false (15 Marks)\n",
    "\n",
    "E.g Given below is 4 * 4 magic Square\n",
    "<pre>\n",
    "    1  15  14  4\n",
    "    10 11   8  5\n",
    "    7  6    9  12\n",
    "    16 2    3  13\n",
    "\n",
    "\n",
    "***\n",
    "#### Sample Input/Output: \n",
    "Its a magic Square\n",
    "\n",
    "***"
   ]
  },
  {
   "cell_type": "code",
   "execution_count": 18,
   "metadata": {},
   "outputs": [
    {
     "name": "stdout",
     "output_type": "stream",
     "text": [
      "[[18, 25, 2, 9, 11], [4, 6, 13, 20, 22], [15, 17, 24, 1, 8], [21, 3, 10, 12, 19], [7, 14, 16, 23, 5]]\n",
      "[[18, 4, 15, 21, 7], [25, 6, 17, 3, 14], [2, 13, 24, 10, 16], [9, 20, 1, 12, 23], [11, 22, 8, 19, 5]]\n",
      "[18, 6, 24, 12, 5]\n",
      "[11, 20, 24, 3, 7]\n",
      "It is a 5x5 Magic Square.\n"
     ]
    }
   ],
   "source": [
    "num = input('Enter the numbers: ').split(',')\n",
    "num_list = [int(i) for i in num]\n",
    "\n",
    "matrix = [num_list[i:i+int(len(num_list)**0.5)] for i in range(0,len(num_list),int(len(num_list)**0.5))]\n",
    "print(matrix)\n",
    "count = 0\n",
    "for i in range(0,len(matrix)):\n",
    "    if sum(matrix[i]) == sum(matrix[i-1]):\n",
    "        count += 1\n",
    "\n",
    "col_1 = [[item[i] for item in matrix] for i in range(len(matrix))]\n",
    "print(col_1)\n",
    "for i in range(0,len(matrix)):\n",
    "    if sum(col_1[i]) == sum(col_1[i-1]):\n",
    "        count += 1\n",
    "count\n",
    "diag_1 = [matrix[i][j] for i in range(len(matrix)) for j in range(len(matrix)) if i==j]\n",
    "print(diag_1)\n",
    "diag_2 = [matrix[i][j] for i in range(len(matrix)) for j in range(len(matrix)) if i+j == (len(matrix)-1)]\n",
    "print(diag_2)\n",
    "\n",
    "if sum(diag_1) == sum(diag_2):\n",
    "    count += 1\n",
    "\n",
    "if count == 2*(len(num_list)**0.5)+1 :\n",
    "    print(f\"It is a {int(len(num_list)**0.5)}x{int(len(num_list)**0.5)} Magic Square.\")\n",
    "else: print('It is not a Magic Square.')"
   ]
  },
  {
   "cell_type": "code",
   "execution_count": null,
   "metadata": {},
   "outputs": [
    {
     "name": "stdout",
     "output_type": "stream",
     "text": [
      "Oh yeah\n"
     ]
    }
   ],
   "source": [
    "a,b,c = 3,3,3\n",
    "if a == b == c:\n",
    "    print('Oh yeah')"
   ]
  },
  {
   "cell_type": "code",
   "execution_count": 1,
   "metadata": {},
   "outputs": [
    {
     "data": {
      "text/plain": [
       "3"
      ]
     },
     "execution_count": 1,
     "metadata": {},
     "output_type": "execute_result"
    }
   ],
   "source": [
    "a = 1\n",
    "b = 2\n",
    "a+b"
   ]
  }
 ],
 "metadata": {
  "kernelspec": {
   "display_name": "Python 3",
   "language": "python",
   "name": "python3"
  },
  "language_info": {
   "codemirror_mode": {
    "name": "ipython",
    "version": 3
   },
   "file_extension": ".py",
   "mimetype": "text/x-python",
   "name": "python",
   "nbconvert_exporter": "python",
   "pygments_lexer": "ipython3",
   "version": "3.11.1"
  }
 },
 "nbformat": 4,
 "nbformat_minor": 2
}
