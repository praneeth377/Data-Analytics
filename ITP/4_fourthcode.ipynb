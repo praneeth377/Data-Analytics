{
 "cells": [
  {
   "cell_type": "code",
   "execution_count": 1,
   "metadata": {},
   "outputs": [
    {
     "name": "stdout",
     "output_type": "stream",
     "text": [
      "Hello\n"
     ]
    }
   ],
   "source": [
    "a = 9\n",
    "if(a>5 and a<=10):\n",
    "    print('Hello')\n",
    "else: print('Bye')"
   ]
  },
  {
   "cell_type": "code",
   "execution_count": 2,
   "metadata": {},
   "outputs": [
    {
     "name": "stdout",
     "output_type": "stream",
     "text": [
      "55\n"
     ]
    }
   ],
   "source": [
    "n = int(input())\n",
    "sum = 0\n",
    "for i in range (n+1):\n",
    "    sum = sum+i\n",
    "\n",
    "print(sum)"
   ]
  },
  {
   "cell_type": "code",
   "execution_count": 3,
   "metadata": {},
   "outputs": [
    {
     "name": "stdout",
     "output_type": "stream",
     "text": [
      "1\n",
      "3\n",
      "5\n",
      "7\n",
      "9\n"
     ]
    }
   ],
   "source": [
    "for i in range(1,10,2):\n",
    "    print(i)"
   ]
  },
  {
   "cell_type": "code",
   "execution_count": 4,
   "metadata": {},
   "outputs": [],
   "source": [
    "list = [\"Praneeth\", 1,2,[2,3,6,9]]\n",
    "list.append([1,2])\n",
    "list.insert(-1, 12)\n",
    "list.remove('Praneeth')\n",
    "del list[1]\n",
    "list.pop(0)\n",
    "list.append(12)\n",
    "list.remove(12)\n",
    "list\n",
    "list1 = [1,2,2.5,-4.4]\n",
    "list1.sort()\n",
    "list1.reverse()\n",
    "list1.clear()"
   ]
  },
  {
   "cell_type": "code",
   "execution_count": 5,
   "metadata": {},
   "outputs": [
    {
     "data": {
      "text/plain": [
       "[-1, 0, 1, 3, 3, 5, 5, 7]"
      ]
     },
     "execution_count": 5,
     "metadata": {},
     "output_type": "execute_result"
    }
   ],
   "source": [
    "tup = (1,2,[1,2,3],(2,3,4))\n",
    "tup[2][0] = 4\n",
    "tup\n",
    "tup1 = ('e', 'a', 'e')\n",
    "tup1.index('e')\n",
    "tup2 = (1,3,3,5,5,7,0,-1)\n",
    "sorted(tup2)"
   ]
  },
  {
   "cell_type": "code",
   "execution_count": 6,
   "metadata": {},
   "outputs": [
    {
     "data": {
      "text/plain": [
       "123"
      ]
     },
     "execution_count": 6,
     "metadata": {},
     "output_type": "execute_result"
    }
   ],
   "source": [
    "capitals = {\"USA\" : \"Washington D.C\", \"France\" : \"Paris\"}\n",
    "capitals[\"USA\"] \n",
    "len(capitals)\n",
    "capitals[\"India\"] = 'New Delhi'\n",
    "#capitals.pop('USA')\n",
    "#capitals.popitem()         # removes last item only\n",
    "capitals\n",
    "c1 = capitals               # changes made in c1 will affect capitals\n",
    "\n",
    "c1['USA'] = 123\n",
    "c1\n",
    "capitals\n",
    "c2 = capitals.copy()\n",
    "c2\n",
    "c2['Bahrain'] = 'Saudi'\n",
    "c2\n",
    "c2.get('USA')"
   ]
  },
  {
   "cell_type": "code",
   "execution_count": 2,
   "metadata": {},
   "outputs": [
    {
     "name": "stdout",
     "output_type": "stream",
     "text": [
      "name: John\n",
      "age: 22\n",
      "sex: male\n"
     ]
    }
   ],
   "source": [
    "d = eval(input())             # Dictionary as input\n",
    "\n",
    "for i,j in d.items():\n",
    "    print(f\"{i}: {j}\")"
   ]
  },
  {
   "cell_type": "code",
   "execution_count": 7,
   "metadata": {},
   "outputs": [
    {
     "data": {
      "text/plain": [
       "{1}"
      ]
     },
     "execution_count": 7,
     "metadata": {},
     "output_type": "execute_result"
    }
   ],
   "source": [
    "s1 = {1,2,2,2,2,1}\n",
    "s1.add('python')\n",
    "s1\n",
    "s1.remove(1)\n",
    "s1.update()\n",
    "s1\n",
    "s2 = {2,3,True,'mahesh'}\n",
    "s1.intersection(s2)\n",
    "s1.update([5,6])\n",
    "s1\n",
    "s3 = {1,2}\n",
    "s3.difference(s1)"
   ]
  },
  {
   "cell_type": "code",
   "execution_count": 8,
   "metadata": {},
   "outputs": [
    {
     "name": "stdout",
     "output_type": "stream",
     "text": [
      "Python is present\n",
      "Python is in tup\n"
     ]
    }
   ],
   "source": [
    "s1 = 'Python'\n",
    "list = ['Praneeth', 'Aryan', 'Python', 'Rapid', 'Hero']\n",
    "tup = ('Hello', 1,2,3, 'Python')\n",
    "#set = {[1,2,3], 'abc', 'Python'}\n",
    "\n",
    "if s1 in list:\n",
    "    print(s1+' is present')\n",
    "\n",
    "if s1 in tup:\n",
    "    print(s1 +' is in tup')"
   ]
  },
  {
   "cell_type": "code",
   "execution_count": 9,
   "metadata": {},
   "outputs": [
    {
     "name": "stdout",
     "output_type": "stream",
     "text": [
      "They are not equal\n"
     ]
    }
   ],
   "source": [
    "\n",
    "a = int(input(\"Enter the first number: \"))\n",
    "b = int(input(\"Enter the second number: \"))\n",
    "if a==b:\n",
    "    print(\"They are equal\")\n",
    "else: print(\"They are not equal\")\n",
    "\n"
   ]
  },
  {
   "cell_type": "code",
   "execution_count": 10,
   "metadata": {},
   "outputs": [
    {
     "name": "stdout",
     "output_type": "stream",
     "text": [
      "3600\n"
     ]
    }
   ],
   "source": [
    "n = 450\n",
    "\n",
    "result = n*8 if n>400 else n/8\n",
    "\n",
    "print(result)"
   ]
  },
  {
   "cell_type": "code",
   "execution_count": 1,
   "metadata": {},
   "outputs": [
    {
     "name": "stdout",
     "output_type": "stream",
     "text": [
      "100\n"
     ]
    }
   ],
   "source": [
    "n1 = int(input(\"Enter N1: \"))\n",
    "op = input(\"Enter the operator: \")\n",
    "n2 = int(input('Enter N2: '))\n",
    "\n",
    "if op == '+':\n",
    "    print(n1+n2)\n",
    "elif op == '-':\n",
    "    print(n1-n2)\n",
    "elif op =='*':\n",
    "    print(n1*n2)\n",
    "elif op =='/':\n",
    "    print(n1/n2)\n",
    "else:print(\"Invalid Operator\")\n"
   ]
  },
  {
   "cell_type": "code",
   "execution_count": 12,
   "metadata": {},
   "outputs": [
    {
     "name": "stdout",
     "output_type": "stream",
     "text": [
      "101 is highest\n"
     ]
    }
   ],
   "source": [
    "n1 = int(input())\n",
    "n2 = int(input())\n",
    "n3 = int(input())\n",
    "\n",
    "if n1>n2:\n",
    "    if n1>n3: print(n1, \"is highest\")\n",
    "    else: print(n3, \"is highest\")\n",
    "else:\n",
    "    if n2>n3: print(n2 ,\"is highest\")\n",
    "    else: print(n3, \"is highest\")"
   ]
  },
  {
   "cell_type": "code",
   "execution_count": 13,
   "metadata": {},
   "outputs": [
    {
     "data": {
      "text/plain": [
       "[0, 1, 1, 2, 3, 5, 8, 13, 21, 34]"
      ]
     },
     "execution_count": 13,
     "metadata": {},
     "output_type": "execute_result"
    }
   ],
   "source": [
    "a = 0\n",
    "b = 1\n",
    "list = []\n",
    "list.append(a)\n",
    "list.append(b)\n",
    "i = 2\n",
    "while(i<10):\n",
    "    list.append(list[i-1]+list[i-2])\n",
    "    i += 1\n",
    "list"
   ]
  },
  {
   "cell_type": "code",
   "execution_count": 14,
   "metadata": {},
   "outputs": [
    {
     "name": "stdout",
     "output_type": "stream",
     "text": [
      "Prime\n"
     ]
    }
   ],
   "source": [
    "n = int(input())\n",
    "list = []\n",
    "for i in range(2,n):\n",
    "    if(n%i == 0):\n",
    "        list.append(i)\n",
    "if len(list) == 0: print('Prime')\n",
    "else: print('Composite')"
   ]
  },
  {
   "cell_type": "code",
   "execution_count": 2,
   "metadata": {},
   "outputs": [
    {
     "data": {
      "text/plain": [
       "[[1, 4, 7], [2, 5, 8], [3, 6, 9]]"
      ]
     },
     "execution_count": 2,
     "metadata": {},
     "output_type": "execute_result"
    }
   ],
   "source": [
    "l=[[1 ,2, 3], [4, 5, 6], [7, 8, 9]]\n",
    "\n",
    "[[row[i] for row in l] for i in range(3)]"
   ]
  }
 ],
 "metadata": {
  "kernelspec": {
   "display_name": "Python 3",
   "language": "python",
   "name": "python3"
  },
  "language_info": {
   "codemirror_mode": {
    "name": "ipython",
    "version": 3
   },
   "file_extension": ".py",
   "mimetype": "text/x-python",
   "name": "python",
   "nbconvert_exporter": "python",
   "pygments_lexer": "ipython3",
   "version": "3.11.1"
  },
  "orig_nbformat": 4
 },
 "nbformat": 4,
 "nbformat_minor": 2
}
