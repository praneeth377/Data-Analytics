{
 "cells": [
  {
   "cell_type": "code",
   "execution_count": 1,
   "metadata": {},
   "outputs": [],
   "source": [
    "import pandas as pd\n",
    "import matplotlib.pyplot as plt\n",
    "import seaborn as sns\n",
    "import warnings\n",
    "warnings.filterwarnings('ignore')\n",
    "#pd.set_option('display.max_columns',20)\n",
    "#pd.set_option('display.max_rows',100)\n",
    "plt.style.use('ggplot')"
   ]
  },
  {
   "cell_type": "code",
   "execution_count": 2,
   "metadata": {},
   "outputs": [
    {
     "data": {
      "text/html": [
       "<div>\n",
       "<style scoped>\n",
       "    .dataframe tbody tr th:only-of-type {\n",
       "        vertical-align: middle;\n",
       "    }\n",
       "\n",
       "    .dataframe tbody tr th {\n",
       "        vertical-align: top;\n",
       "    }\n",
       "\n",
       "    .dataframe thead th {\n",
       "        text-align: right;\n",
       "    }\n",
       "</style>\n",
       "<table border=\"1\" class=\"dataframe\">\n",
       "  <thead>\n",
       "    <tr style=\"text-align: right;\">\n",
       "      <th></th>\n",
       "      <th>item_id</th>\n",
       "      <th>size</th>\n",
       "      <th>quality</th>\n",
       "      <th>cup_size</th>\n",
       "      <th>hips</th>\n",
       "      <th>bra_size</th>\n",
       "      <th>category</th>\n",
       "      <th>Height</th>\n",
       "      <th>user_name</th>\n",
       "      <th>length</th>\n",
       "      <th>fit</th>\n",
       "      <th>user_id</th>\n",
       "      <th>shoe_size</th>\n",
       "      <th>shoe_width</th>\n",
       "      <th>review_summary</th>\n",
       "      <th>review_text</th>\n",
       "    </tr>\n",
       "  </thead>\n",
       "  <tbody>\n",
       "    <tr>\n",
       "      <th>0</th>\n",
       "      <td>123373</td>\n",
       "      <td>7</td>\n",
       "      <td>5</td>\n",
       "      <td>d</td>\n",
       "      <td>38</td>\n",
       "      <td>34</td>\n",
       "      <td>new</td>\n",
       "      <td>5.50</td>\n",
       "      <td>Emily</td>\n",
       "      <td>just right</td>\n",
       "      <td>small</td>\n",
       "      <td>991571</td>\n",
       "      <td>8.5</td>\n",
       "      <td>NaN</td>\n",
       "      <td>NaN</td>\n",
       "      <td>NaN</td>\n",
       "    </tr>\n",
       "    <tr>\n",
       "      <th>1</th>\n",
       "      <td>123373</td>\n",
       "      <td>13</td>\n",
       "      <td>3</td>\n",
       "      <td>b</td>\n",
       "      <td>30</td>\n",
       "      <td>36</td>\n",
       "      <td>new</td>\n",
       "      <td>5.17</td>\n",
       "      <td>sydneybraden2001</td>\n",
       "      <td>just right</td>\n",
       "      <td>small</td>\n",
       "      <td>587883</td>\n",
       "      <td>9.5</td>\n",
       "      <td>NaN</td>\n",
       "      <td>NaN</td>\n",
       "      <td>NaN</td>\n",
       "    </tr>\n",
       "    <tr>\n",
       "      <th>2</th>\n",
       "      <td>123373</td>\n",
       "      <td>7</td>\n",
       "      <td>2</td>\n",
       "      <td>b</td>\n",
       "      <td>39</td>\n",
       "      <td>32</td>\n",
       "      <td>new</td>\n",
       "      <td>5.58</td>\n",
       "      <td>Ugggh</td>\n",
       "      <td>slightly long</td>\n",
       "      <td>small</td>\n",
       "      <td>395665</td>\n",
       "      <td>9.0</td>\n",
       "      <td>NaN</td>\n",
       "      <td>NaN</td>\n",
       "      <td>NaN</td>\n",
       "    </tr>\n",
       "    <tr>\n",
       "      <th>3</th>\n",
       "      <td>123373</td>\n",
       "      <td>21</td>\n",
       "      <td>5</td>\n",
       "      <td>dd/e</td>\n",
       "      <td>39</td>\n",
       "      <td>36</td>\n",
       "      <td>new</td>\n",
       "      <td>5.42</td>\n",
       "      <td>alexmeyer626</td>\n",
       "      <td>just right</td>\n",
       "      <td>fit</td>\n",
       "      <td>875643</td>\n",
       "      <td>10.0</td>\n",
       "      <td>NaN</td>\n",
       "      <td>NaN</td>\n",
       "      <td>NaN</td>\n",
       "    </tr>\n",
       "    <tr>\n",
       "      <th>4</th>\n",
       "      <td>123373</td>\n",
       "      <td>18</td>\n",
       "      <td>5</td>\n",
       "      <td>b</td>\n",
       "      <td>39</td>\n",
       "      <td>36</td>\n",
       "      <td>new</td>\n",
       "      <td>5.17</td>\n",
       "      <td>dberrones1</td>\n",
       "      <td>slightly long</td>\n",
       "      <td>small</td>\n",
       "      <td>944840</td>\n",
       "      <td>8.5</td>\n",
       "      <td>NaN</td>\n",
       "      <td>NaN</td>\n",
       "      <td>NaN</td>\n",
       "    </tr>\n",
       "  </tbody>\n",
       "</table>\n",
       "</div>"
      ],
      "text/plain": [
       "   item_id  size  quality cup_size  hips  bra_size category  Height  \\\n",
       "0   123373     7        5        d    38        34      new    5.50   \n",
       "1   123373    13        3        b    30        36      new    5.17   \n",
       "2   123373     7        2        b    39        32      new    5.58   \n",
       "3   123373    21        5     dd/e    39        36      new    5.42   \n",
       "4   123373    18        5        b    39        36      new    5.17   \n",
       "\n",
       "          user_name         length    fit  user_id  shoe_size shoe_width  \\\n",
       "0             Emily     just right  small   991571        8.5        NaN   \n",
       "1  sydneybraden2001     just right  small   587883        9.5        NaN   \n",
       "2             Ugggh  slightly long  small   395665        9.0        NaN   \n",
       "3      alexmeyer626     just right    fit   875643       10.0        NaN   \n",
       "4        dberrones1  slightly long  small   944840        8.5        NaN   \n",
       "\n",
       "  review_summary review_text  \n",
       "0            NaN         NaN  \n",
       "1            NaN         NaN  \n",
       "2            NaN         NaN  \n",
       "3            NaN         NaN  \n",
       "4            NaN         NaN  "
      ]
     },
     "execution_count": 2,
     "metadata": {},
     "output_type": "execute_result"
    }
   ],
   "source": [
    "df = pd.read_excel('Mod_Clothing Cleaned.xlsx')\n",
    "df.head()"
   ]
  },
  {
   "cell_type": "markdown",
   "metadata": {},
   "source": [
    "### 1. Test the claim that the category feature and review summary have any relationship among them. The level of significance is 5%."
   ]
  },
  {
   "cell_type": "markdown",
   "metadata": {},
   "source": [
    "#### We will be using Chi-Square Test for Independence to find if there's any relationship between the features."
   ]
  },
  {
   "cell_type": "markdown",
   "metadata": {},
   "source": [
    "#### Null and Alternate Hypotheses :-\n",
    "> $H_0$ : 'Category' and 'Review Summary' are independent of each other.\n",
    "\n",
    "> $H_a$ : 'Category' and 'Review Summary' are dependent of each other."
   ]
  },
  {
   "cell_type": "markdown",
   "metadata": {},
   "source": [
    "#### We will downsize the reviews summary by taking Top 10 review summaries for each category so that the contingency table is not big (Dimensionality Reduction)"
   ]
  },
  {
   "cell_type": "code",
   "execution_count": 3,
   "metadata": {},
   "outputs": [],
   "source": [
    "top10_review_summaries = []\n",
    "for i in df['category'].unique():\n",
    "    for j in range(10):\n",
    "        top10_review_summaries.append(df[df['category'] == i]['review_summary'].value_counts().head(10).index[j])\n",
    "\n",
    "# Removing Duplicates from list\n",
    "top10_review_summaries = list(set(top10_review_summaries))\n",
    "#print(top10_review_summaries)"
   ]
  },
  {
   "cell_type": "code",
   "execution_count": 4,
   "metadata": {},
   "outputs": [
    {
     "data": {
      "text/plain": [
       "(1860, 16)"
      ]
     },
     "execution_count": 4,
     "metadata": {},
     "output_type": "execute_result"
    }
   ],
   "source": [
    "df1 = df[df['review_summary'].isin(top10_review_summaries)]\n",
    "df1.shape"
   ]
  },
  {
   "cell_type": "code",
   "execution_count": 5,
   "metadata": {},
   "outputs": [
    {
     "data": {
      "text/html": [
       "<div>\n",
       "<style scoped>\n",
       "    .dataframe tbody tr th:only-of-type {\n",
       "        vertical-align: middle;\n",
       "    }\n",
       "\n",
       "    .dataframe tbody tr th {\n",
       "        vertical-align: top;\n",
       "    }\n",
       "\n",
       "    .dataframe thead th {\n",
       "        text-align: right;\n",
       "    }\n",
       "</style>\n",
       "<table border=\"1\" class=\"dataframe\">\n",
       "  <thead>\n",
       "    <tr style=\"text-align: right;\">\n",
       "      <th>review_summary</th>\n",
       "      <th>.</th>\n",
       "      <th>Another good piece from r</th>\n",
       "      <th>Cute</th>\n",
       "      <th>I LOVE this dress. I'm tr</th>\n",
       "      <th>I absolutely love this ca</th>\n",
       "      <th>I absolutely love this co</th>\n",
       "      <th>I absolutely love this dr</th>\n",
       "      <th>I absolutely love this ja</th>\n",
       "      <th>I absolutely love this sk</th>\n",
       "      <th>I am in love with this co</th>\n",
       "      <th>...</th>\n",
       "      <th>Love!</th>\n",
       "      <th>OMG! I had been wanting t</th>\n",
       "      <th>One of my favorite shirts</th>\n",
       "      <th>Perfect!</th>\n",
       "      <th>This dress is absolutely</th>\n",
       "      <th>This dress is beautiful.</th>\n",
       "      <th>This is a beautiful dress</th>\n",
       "      <th>This is one of my favorit</th>\n",
       "      <th>This skirt is absolutely</th>\n",
       "      <th>This was a nice dress bea</th>\n",
       "    </tr>\n",
       "    <tr>\n",
       "      <th>category</th>\n",
       "      <th></th>\n",
       "      <th></th>\n",
       "      <th></th>\n",
       "      <th></th>\n",
       "      <th></th>\n",
       "      <th></th>\n",
       "      <th></th>\n",
       "      <th></th>\n",
       "      <th></th>\n",
       "      <th></th>\n",
       "      <th></th>\n",
       "      <th></th>\n",
       "      <th></th>\n",
       "      <th></th>\n",
       "      <th></th>\n",
       "      <th></th>\n",
       "      <th></th>\n",
       "      <th></th>\n",
       "      <th></th>\n",
       "      <th></th>\n",
       "      <th></th>\n",
       "    </tr>\n",
       "  </thead>\n",
       "  <tbody>\n",
       "    <tr>\n",
       "      <th>bottoms</th>\n",
       "      <td>24</td>\n",
       "      <td>0</td>\n",
       "      <td>3</td>\n",
       "      <td>0</td>\n",
       "      <td>0</td>\n",
       "      <td>0</td>\n",
       "      <td>0</td>\n",
       "      <td>0</td>\n",
       "      <td>39</td>\n",
       "      <td>0</td>\n",
       "      <td>...</td>\n",
       "      <td>11</td>\n",
       "      <td>0</td>\n",
       "      <td>0</td>\n",
       "      <td>15</td>\n",
       "      <td>0</td>\n",
       "      <td>0</td>\n",
       "      <td>0</td>\n",
       "      <td>8</td>\n",
       "      <td>21</td>\n",
       "      <td>0</td>\n",
       "    </tr>\n",
       "    <tr>\n",
       "      <th>dresses</th>\n",
       "      <td>10</td>\n",
       "      <td>0</td>\n",
       "      <td>5</td>\n",
       "      <td>0</td>\n",
       "      <td>0</td>\n",
       "      <td>0</td>\n",
       "      <td>104</td>\n",
       "      <td>0</td>\n",
       "      <td>0</td>\n",
       "      <td>0</td>\n",
       "      <td>...</td>\n",
       "      <td>7</td>\n",
       "      <td>0</td>\n",
       "      <td>0</td>\n",
       "      <td>12</td>\n",
       "      <td>43</td>\n",
       "      <td>12</td>\n",
       "      <td>21</td>\n",
       "      <td>27</td>\n",
       "      <td>0</td>\n",
       "      <td>0</td>\n",
       "    </tr>\n",
       "    <tr>\n",
       "      <th>new</th>\n",
       "      <td>20</td>\n",
       "      <td>0</td>\n",
       "      <td>4</td>\n",
       "      <td>0</td>\n",
       "      <td>13</td>\n",
       "      <td>7</td>\n",
       "      <td>9</td>\n",
       "      <td>4</td>\n",
       "      <td>4</td>\n",
       "      <td>1</td>\n",
       "      <td>...</td>\n",
       "      <td>11</td>\n",
       "      <td>0</td>\n",
       "      <td>3</td>\n",
       "      <td>14</td>\n",
       "      <td>1</td>\n",
       "      <td>1</td>\n",
       "      <td>4</td>\n",
       "      <td>17</td>\n",
       "      <td>1</td>\n",
       "      <td>0</td>\n",
       "    </tr>\n",
       "    <tr>\n",
       "      <th>outerwear</th>\n",
       "      <td>6</td>\n",
       "      <td>0</td>\n",
       "      <td>0</td>\n",
       "      <td>0</td>\n",
       "      <td>0</td>\n",
       "      <td>25</td>\n",
       "      <td>0</td>\n",
       "      <td>6</td>\n",
       "      <td>0</td>\n",
       "      <td>7</td>\n",
       "      <td>...</td>\n",
       "      <td>0</td>\n",
       "      <td>0</td>\n",
       "      <td>0</td>\n",
       "      <td>2</td>\n",
       "      <td>0</td>\n",
       "      <td>0</td>\n",
       "      <td>1</td>\n",
       "      <td>1</td>\n",
       "      <td>0</td>\n",
       "      <td>0</td>\n",
       "    </tr>\n",
       "    <tr>\n",
       "      <th>sale</th>\n",
       "      <td>0</td>\n",
       "      <td>0</td>\n",
       "      <td>4</td>\n",
       "      <td>0</td>\n",
       "      <td>0</td>\n",
       "      <td>0</td>\n",
       "      <td>10</td>\n",
       "      <td>0</td>\n",
       "      <td>0</td>\n",
       "      <td>1</td>\n",
       "      <td>...</td>\n",
       "      <td>4</td>\n",
       "      <td>0</td>\n",
       "      <td>0</td>\n",
       "      <td>5</td>\n",
       "      <td>2</td>\n",
       "      <td>1</td>\n",
       "      <td>5</td>\n",
       "      <td>0</td>\n",
       "      <td>0</td>\n",
       "      <td>0</td>\n",
       "    </tr>\n",
       "    <tr>\n",
       "      <th>tops</th>\n",
       "      <td>16</td>\n",
       "      <td>0</td>\n",
       "      <td>8</td>\n",
       "      <td>0</td>\n",
       "      <td>11</td>\n",
       "      <td>1</td>\n",
       "      <td>0</td>\n",
       "      <td>0</td>\n",
       "      <td>0</td>\n",
       "      <td>1</td>\n",
       "      <td>...</td>\n",
       "      <td>24</td>\n",
       "      <td>0</td>\n",
       "      <td>18</td>\n",
       "      <td>21</td>\n",
       "      <td>0</td>\n",
       "      <td>0</td>\n",
       "      <td>0</td>\n",
       "      <td>30</td>\n",
       "      <td>0</td>\n",
       "      <td>0</td>\n",
       "    </tr>\n",
       "    <tr>\n",
       "      <th>wedding</th>\n",
       "      <td>0</td>\n",
       "      <td>1</td>\n",
       "      <td>0</td>\n",
       "      <td>1</td>\n",
       "      <td>0</td>\n",
       "      <td>0</td>\n",
       "      <td>1</td>\n",
       "      <td>0</td>\n",
       "      <td>0</td>\n",
       "      <td>0</td>\n",
       "      <td>...</td>\n",
       "      <td>0</td>\n",
       "      <td>1</td>\n",
       "      <td>0</td>\n",
       "      <td>0</td>\n",
       "      <td>1</td>\n",
       "      <td>2</td>\n",
       "      <td>1</td>\n",
       "      <td>0</td>\n",
       "      <td>0</td>\n",
       "      <td>1</td>\n",
       "    </tr>\n",
       "  </tbody>\n",
       "</table>\n",
       "<p>7 rows × 46 columns</p>\n",
       "</div>"
      ],
      "text/plain": [
       "review_summary   .  Another good piece from r  Cute  \\\n",
       "category                                              \n",
       "bottoms         24                          0     3   \n",
       "dresses         10                          0     5   \n",
       "new             20                          0     4   \n",
       "outerwear        6                          0     0   \n",
       "sale             0                          0     4   \n",
       "tops            16                          0     8   \n",
       "wedding          0                          1     0   \n",
       "\n",
       "review_summary  I LOVE this dress. I'm tr  I absolutely love this ca  \\\n",
       "category                                                               \n",
       "bottoms                                 0                          0   \n",
       "dresses                                 0                          0   \n",
       "new                                     0                         13   \n",
       "outerwear                               0                          0   \n",
       "sale                                    0                          0   \n",
       "tops                                    0                         11   \n",
       "wedding                                 1                          0   \n",
       "\n",
       "review_summary  I absolutely love this co  I absolutely love this dr  \\\n",
       "category                                                               \n",
       "bottoms                                 0                          0   \n",
       "dresses                                 0                        104   \n",
       "new                                     7                          9   \n",
       "outerwear                              25                          0   \n",
       "sale                                    0                         10   \n",
       "tops                                    1                          0   \n",
       "wedding                                 0                          1   \n",
       "\n",
       "review_summary  I absolutely love this ja  I absolutely love this sk  \\\n",
       "category                                                               \n",
       "bottoms                                 0                         39   \n",
       "dresses                                 0                          0   \n",
       "new                                     4                          4   \n",
       "outerwear                               6                          0   \n",
       "sale                                    0                          0   \n",
       "tops                                    0                          0   \n",
       "wedding                                 0                          0   \n",
       "\n",
       "review_summary  I am in love with this co  ...  Love!  \\\n",
       "category                                   ...          \n",
       "bottoms                                 0  ...     11   \n",
       "dresses                                 0  ...      7   \n",
       "new                                     1  ...     11   \n",
       "outerwear                               7  ...      0   \n",
       "sale                                    1  ...      4   \n",
       "tops                                    1  ...     24   \n",
       "wedding                                 0  ...      0   \n",
       "\n",
       "review_summary  OMG! I had been wanting t  One of my favorite shirts  \\\n",
       "category                                                               \n",
       "bottoms                                 0                          0   \n",
       "dresses                                 0                          0   \n",
       "new                                     0                          3   \n",
       "outerwear                               0                          0   \n",
       "sale                                    0                          0   \n",
       "tops                                    0                         18   \n",
       "wedding                                 1                          0   \n",
       "\n",
       "review_summary  Perfect!  This dress is absolutely  This dress is beautiful.  \\\n",
       "category                                                                       \n",
       "bottoms               15                         0                         0   \n",
       "dresses               12                        43                        12   \n",
       "new                   14                         1                         1   \n",
       "outerwear              2                         0                         0   \n",
       "sale                   5                         2                         1   \n",
       "tops                  21                         0                         0   \n",
       "wedding                0                         1                         2   \n",
       "\n",
       "review_summary  This is a beautiful dress  This is one of my favorit  \\\n",
       "category                                                               \n",
       "bottoms                                 0                          8   \n",
       "dresses                                21                         27   \n",
       "new                                     4                         17   \n",
       "outerwear                               1                          1   \n",
       "sale                                    5                          0   \n",
       "tops                                    0                         30   \n",
       "wedding                                 1                          0   \n",
       "\n",
       "review_summary  This skirt is absolutely  This was a nice dress bea  \n",
       "category                                                             \n",
       "bottoms                               21                          0  \n",
       "dresses                                0                          0  \n",
       "new                                    1                          0  \n",
       "outerwear                              0                          0  \n",
       "sale                                   0                          0  \n",
       "tops                                   0                          0  \n",
       "wedding                                0                          1  \n",
       "\n",
       "[7 rows x 46 columns]"
      ]
     },
     "execution_count": 5,
     "metadata": {},
     "output_type": "execute_result"
    }
   ],
   "source": [
    "contingency_table = pd.crosstab(df1['category'], df1['review_summary'])\n",
    "contingency_table"
   ]
  },
  {
   "cell_type": "code",
   "execution_count": 6,
   "metadata": {},
   "outputs": [
    {
     "name": "stdout",
     "output_type": "stream",
     "text": [
      "Test Statistic: 3049.195323903264\n",
      "P-value: 0.0\n"
     ]
    }
   ],
   "source": [
    "from scipy.stats import chi2_contingency\n",
    "\n",
    "chi, p_value, dof, expected = chi2_contingency(contingency_table)\n",
    "print('Test Statistic:',chi)\n",
    "print('P-value:',p_value)"
   ]
  },
  {
   "cell_type": "markdown",
   "metadata": {},
   "source": [
    "#### As the p-value is much less than the significance level, we can reject the $H_0$. Hence, we have enough statistical evidence to say that category feature and review summary have a relationship at 5% significance level."
   ]
  },
  {
   "cell_type": "markdown",
   "metadata": {},
   "source": [
    "---"
   ]
  },
  {
   "cell_type": "markdown",
   "metadata": {},
   "source": [
    "### 2. Test statistically whether the size and hips have any relationship using 0.05 alpha. Before the above test, Test the normality test."
   ]
  },
  {
   "cell_type": "markdown",
   "metadata": {},
   "source": [
    "#### Normality Test for 'size' and 'hips' columns :-"
   ]
  },
  {
   "cell_type": "code",
   "execution_count": 7,
   "metadata": {},
   "outputs": [
    {
     "data": {
      "image/png": "[encoded data removed]",
      "text/plain": [
       "<Figure size 1400x600 with 2 Axes>"
      ]
     },
     "metadata": {},
     "output_type": "display_data"
    },
    {
     "name": "stdout",
     "output_type": "stream",
     "text": [
      "Shapiro-Wilk test p-value for 'size': 0.0\n",
      "Shapiro-Wilk test p-value for 'hips': 0.0\n",
      "The 'size' data does not follow a normal distribution.\n",
      "The 'hips' data does not follow a normal distribution.\n"
     ]
    }
   ],
   "source": [
    "from scipy.stats import probplot,shapiro \n",
    "# Q-Q plot\n",
    "# Quantilte-Quantile Plot is plot between theoretical quantiles and quantiles of sample data. \n",
    "# If plot is straight line then we can conclude that sample is Normal.\n",
    "fig,ax = plt.subplots(1,2,figsize=(14,6))\n",
    "qq1 = probplot(df['size'], dist=\"norm\", plot=ax[0])\n",
    "qq2 = probplot(df['hips'], dist=\"norm\", plot=ax[1])\n",
    "ax[0].set_title('Q-Q Plot for Size')\n",
    "ax[1].set_title('Q-Q Plot for Hips')\n",
    "plt.show()\n",
    "\n",
    "# Shapiro-Wilk test for normality\n",
    "stat1, p_value1 = shapiro(df['size'])\n",
    "stat2, p_value2 = shapiro(df['hips'])\n",
    "\n",
    "# Check the p-value\n",
    "alpha = 0.05  # 95% confidence level\n",
    "print(f\"Shapiro-Wilk test p-value for 'size': {p_value1}\")\n",
    "print(f\"Shapiro-Wilk test p-value for 'hips': {p_value2}\")\n",
    "\n",
    "if p_value1 < alpha:\n",
    "    print(\"The 'size' data does not follow a normal distribution.\")\n",
    "else:\n",
    "    print(\"The 'size' data follows a normal distribution.\")\n",
    "\n",
    "if p_value2 < alpha:\n",
    "    print(\"The 'hips' data does not follow a normal distribution.\")\n",
    "else:\n",
    "    print(\"The 'hips' data follows a normal distribution.\")"
   ]
  },
  {
   "cell_type": "markdown",
   "metadata": {},
   "source": [
    "#### Both have failed the Normality Test. Acknowledging the fact that real life data don't always actually follow Normality, proceeding to the test."
   ]
  },
  {
   "cell_type": "code",
   "execution_count": 8,
   "metadata": {},
   "outputs": [
    {
     "data": {
      "text/html": [
       "<div>\n",
       "<style scoped>\n",
       "    .dataframe tbody tr th:only-of-type {\n",
       "        vertical-align: middle;\n",
       "    }\n",
       "\n",
       "    .dataframe tbody tr th {\n",
       "        vertical-align: top;\n",
       "    }\n",
       "\n",
       "    .dataframe thead th {\n",
       "        text-align: right;\n",
       "    }\n",
       "</style>\n",
       "<table border=\"1\" class=\"dataframe\">\n",
       "  <thead>\n",
       "    <tr style=\"text-align: right;\">\n",
       "      <th></th>\n",
       "      <th>hips</th>\n",
       "      <th>size</th>\n",
       "    </tr>\n",
       "  </thead>\n",
       "  <tbody>\n",
       "    <tr>\n",
       "      <th>hips</th>\n",
       "      <td>1.000000</td>\n",
       "      <td>0.589042</td>\n",
       "    </tr>\n",
       "    <tr>\n",
       "      <th>size</th>\n",
       "      <td>0.589042</td>\n",
       "      <td>1.000000</td>\n",
       "    </tr>\n",
       "  </tbody>\n",
       "</table>\n",
       "</div>"
      ],
      "text/plain": [
       "          hips      size\n",
       "hips  1.000000  0.589042\n",
       "size  0.589042  1.000000"
      ]
     },
     "execution_count": 8,
     "metadata": {},
     "output_type": "execute_result"
    }
   ],
   "source": [
    "df[['hips','size']].corr()"
   ]
  },
  {
   "cell_type": "markdown",
   "metadata": {},
   "source": [
    "#### There is 0.58 Pearson's Correlation between the features."
   ]
  },
  {
   "cell_type": "code",
   "execution_count": 9,
   "metadata": {},
   "outputs": [
    {
     "data": {
      "image/png": "[encoded data removed]",
      "text/plain": [
       "<Figure size 640x480 with 1 Axes>"
      ]
     },
     "metadata": {},
     "output_type": "display_data"
    }
   ],
   "source": [
    "# Plotting a scatter plot to see if there's linear relationship between the features\n",
    "plt.scatter(x=df['hips'], y=df['size'])\n",
    "plt.xlabel('Hips')\n",
    "plt.ylabel('Size')\n",
    "plt.title('Scatter Plot b/w Size and Hips')\n",
    "plt.show()\n"
   ]
  },
  {
   "cell_type": "markdown",
   "metadata": {},
   "source": [
    "#### There doesn't seem to be a linear relationship between the features."
   ]
  },
  {
   "cell_type": "markdown",
   "metadata": {},
   "source": [
    "#### In this case we can make use of 2 tests."
   ]
  },
  {
   "cell_type": "markdown",
   "metadata": {},
   "source": [
    "### a. Spearman Rank-Order Correlation Test:\n",
    "> $H_0$ : There is no significant monotonic relationship between the two variables.\n",
    "\n",
    "> $H_a$ : There is a significant monotonic relationship between the two variables."
   ]
  },
  {
   "cell_type": "markdown",
   "metadata": {},
   "source": [
    "##### Purpose: Tests the monotonic relationship between two continuous or ordinal variables"
   ]
  },
  {
   "cell_type": "code",
   "execution_count": 10,
   "metadata": {},
   "outputs": [
    {
     "name": "stdout",
     "output_type": "stream",
     "text": [
      "P-value from Spearman Rank-Order Correlation Test: 0.0\n"
     ]
    }
   ],
   "source": [
    "from scipy.stats import spearmanr\n",
    "\n",
    "correlation_coefficient, p_value = spearmanr(df['size'], df['hips'])\n",
    "print('P-value from Spearman Rank-Order Correlation Test:',p_value)"
   ]
  },
  {
   "cell_type": "markdown",
   "metadata": {},
   "source": [
    "### b. Kendall's Tau Test:\n",
    "> $H_0$ : There is no significant monotonic relationship between the two variables.\n",
    "\n",
    "> $H_a$ : There is a significant monotonic relationship between the two variables."
   ]
  },
  {
   "cell_type": "markdown",
   "metadata": {},
   "source": [
    "##### Purpose: Tests the strength and direction of a monotonic relationship between two continuous or ordinal variables."
   ]
  },
  {
   "cell_type": "code",
   "execution_count": 11,
   "metadata": {},
   "outputs": [
    {
     "name": "stdout",
     "output_type": "stream",
     "text": [
      "P-value from Kendall's Tau Test: 0.0\n"
     ]
    }
   ],
   "source": [
    "from scipy.stats import kendalltau\n",
    "\n",
    "correlation_coefficient, p_value = kendalltau(df['size'], df['hips'])\n",
    "print(\"P-value from Kendall's Tau Test:\",p_value)"
   ]
  },
  {
   "cell_type": "markdown",
   "metadata": {},
   "source": [
    "#### Both the tests yielded a significantly less p-value, hence we can reject $H_0$. That means there is enough statistical evidence to say that there is a 'monotonic' relationship between the 'size' and 'hips' columns."
   ]
  },
  {
   "cell_type": "markdown",
   "metadata": {},
   "source": [
    "---"
   ]
  },
  {
   "cell_type": "markdown",
   "metadata": {},
   "source": [
    "### 3. Does the quality significantly differ for any one shoe width? Test the test with 96% confidence interval."
   ]
  },
  {
   "cell_type": "markdown",
   "metadata": {},
   "source": [
    "#### We can perform Multiple Comparison test (Tukey HSD) test for this. One way ANOVA can also be done."
   ]
  },
  {
   "cell_type": "markdown",
   "metadata": {},
   "source": [
    "#### Let $\\mu_1, \\mu_2, \\mu_3$ be the means of quality for each shoe width. "
   ]
  },
  {
   "cell_type": "markdown",
   "metadata": {},
   "source": [
    "#### Null and Alternate Hypotheses :-\n",
    "> $H_0 : \\mu_{1}=\\mu_{2} \\text{ }\\text{and}\\text{ } \\mu_{2}=\\mu_{3} \\text{ }\\text{and}\\text{ } \\mu_{3}=\\mu_{1}$\n",
    "\n",
    "> $H_a : \\mu_{1}\\neq\\mu_{2} \\text{ }\\text{or}\\text{ } \\mu_{2}\\neq\\mu_{3} \\text{ }\\text{or}\\text{ } \\mu_{3}\\neq\\mu_{1}$"
   ]
  },
  {
   "cell_type": "code",
   "execution_count": 12,
   "metadata": {},
   "outputs": [
    {
     "data": {
      "text/plain": [
       "0"
      ]
     },
     "execution_count": 12,
     "metadata": {},
     "output_type": "execute_result"
    }
   ],
   "source": [
    "# Removing the records which have missing values in 'Shoe width' column\n",
    "df2 = df.dropna(subset=['shoe_width'])\n",
    "df2['shoe_width'].isna().sum()"
   ]
  },
  {
   "cell_type": "code",
   "execution_count": 13,
   "metadata": {},
   "outputs": [
    {
     "data": {
      "text/plain": [
       "shoe_width\n",
       "average    4.002993\n",
       "narrow     4.003232\n",
       "wide       3.947262\n",
       "Name: quality, dtype: float64"
      ]
     },
     "execution_count": 13,
     "metadata": {},
     "output_type": "execute_result"
    }
   ],
   "source": [
    "df2.groupby('shoe_width')['quality'].mean()"
   ]
  },
  {
   "cell_type": "code",
   "execution_count": 14,
   "metadata": {},
   "outputs": [
    {
     "data": {
      "image/png": "[encoded data removed]",
      "text/plain": [
       "<Figure size 640x480 with 1 Axes>"
      ]
     },
     "metadata": {},
     "output_type": "display_data"
    }
   ],
   "source": [
    "sns.boxplot(df2, x='shoe_width', y='quality', hue='shoe_width')\n",
    "plt.title('Quality w.r.t. Shoe Width (3 levels)')\n",
    "plt.show()"
   ]
  },
  {
   "cell_type": "markdown",
   "metadata": {},
   "source": [
    "#### Means for samples look almost the same. Let's perform the test"
   ]
  },
  {
   "cell_type": "code",
   "execution_count": 15,
   "metadata": {},
   "outputs": [
    {
     "name": "stdout",
     "output_type": "stream",
     "text": [
      " Multiple Comparison of Means - Tukey HSD, FWER=0.04 \n",
      "=====================================================\n",
      " group1 group2 meandiff p-adj   lower   upper  reject\n",
      "-----------------------------------------------------\n",
      "average narrow   0.0002    1.0 -0.0642  0.0646  False\n",
      "average   wide  -0.0557 0.0053 -0.0992 -0.0122   True\n",
      " narrow   wide   -0.056 0.1404 -0.1278  0.0159  False\n",
      "-----------------------------------------------------\n"
     ]
    }
   ],
   "source": [
    "from statsmodels.stats.multicomp import pairwise_tukeyhsd\n",
    "\n",
    "# perform multiple pairwise comparison (Tukey HSD)\n",
    "m_comp = pairwise_tukeyhsd(endog = df2['quality'], groups = df2['shoe_width'], alpha = 0.04)\n",
    "print(m_comp)"
   ]
  },
  {
   "cell_type": "markdown",
   "metadata": {},
   "source": [
    "#### We can conclude that mean quality in case of shoe widths 'average' and 'wide' is significantly different whereas in other 2 combinations mean quality is almost significantly same. "
   ]
  },
  {
   "cell_type": "markdown",
   "metadata": {},
   "source": [
    "---"
   ]
  },
  {
   "cell_type": "markdown",
   "metadata": {},
   "source": [
    "### 4. Check if the shoe width feature affects the review summary with a 99% confidence interval."
   ]
  },
  {
   "cell_type": "markdown",
   "metadata": {},
   "source": [
    "#### We will be using Chi-Square Test for Independence to find if there's any relationship between the features."
   ]
  },
  {
   "cell_type": "markdown",
   "metadata": {},
   "source": [
    "#### Null and Alternate Hypotheses :-\n",
    "> $H_0$ : 'shoe_width' and 'Review Summary' are independent of each other.\n",
    "\n",
    "> $H_a$ : 'shoe_width' and 'Review Summary' are dependent of each other."
   ]
  },
  {
   "cell_type": "markdown",
   "metadata": {},
   "source": [
    "#### We will downsize the reviews summary by taking Top 10 review summaries for each shoe width so that the contingency table is not big (Dimensionality Reduction)"
   ]
  },
  {
   "cell_type": "code",
   "execution_count": 16,
   "metadata": {},
   "outputs": [],
   "source": [
    "# Removing Missing records from columns\n",
    "df3 = df.dropna(subset=['shoe_width','review_summary'])"
   ]
  },
  {
   "cell_type": "code",
   "execution_count": 17,
   "metadata": {},
   "outputs": [],
   "source": [
    "top10_review_summaries = []\n",
    "for i in df3['shoe_width'].unique():\n",
    "    for j in range(10):\n",
    "        top10_review_summaries.append(df3[df3['shoe_width'] == i]['review_summary'].value_counts().head(10).index[j])\n",
    "\n",
    "# Removing Duplicates from list\n",
    "top10_review_summaries = list(set(top10_review_summaries))\n",
    "# print(top10_review_summaries)"
   ]
  },
  {
   "cell_type": "code",
   "execution_count": 18,
   "metadata": {},
   "outputs": [
    {
     "data": {
      "text/plain": [
       "(251, 16)"
      ]
     },
     "execution_count": 18,
     "metadata": {},
     "output_type": "execute_result"
    }
   ],
   "source": [
    "df4 = df3[df3['review_summary'].isin(top10_review_summaries)]\n",
    "df4.shape"
   ]
  },
  {
   "cell_type": "code",
   "execution_count": 19,
   "metadata": {},
   "outputs": [
    {
     "data": {
      "text/html": [
       "<div>\n",
       "<style scoped>\n",
       "    .dataframe tbody tr th:only-of-type {\n",
       "        vertical-align: middle;\n",
       "    }\n",
       "\n",
       "    .dataframe tbody tr th {\n",
       "        vertical-align: top;\n",
       "    }\n",
       "\n",
       "    .dataframe thead th {\n",
       "        text-align: right;\n",
       "    }\n",
       "</style>\n",
       "<table border=\"1\" class=\"dataframe\">\n",
       "  <thead>\n",
       "    <tr style=\"text-align: right;\">\n",
       "      <th>review_summary</th>\n",
       "      <th>.</th>\n",
       "      <th>Great!</th>\n",
       "      <th>I LOVE this dress! It is</th>\n",
       "      <th>I absolutely LOVE this dr</th>\n",
       "      <th>I absolutely adore this d</th>\n",
       "      <th>I absolutely love this dr</th>\n",
       "      <th>I absolutely love this sh</th>\n",
       "      <th>I bought this dress for m</th>\n",
       "      <th>I don't think of this as</th>\n",
       "      <th>I get so many compliments</th>\n",
       "      <th>...</th>\n",
       "      <th>I wanted to love this dre</th>\n",
       "      <th>I'm only a few cardis awa</th>\n",
       "      <th>Love</th>\n",
       "      <th>Love it</th>\n",
       "      <th>Love it!</th>\n",
       "      <th>Love this dress!</th>\n",
       "      <th>My favorite cardigan! It</th>\n",
       "      <th>Perfect as usual</th>\n",
       "      <th>This dress is perfect. Th</th>\n",
       "      <th>This is one of my favorit</th>\n",
       "    </tr>\n",
       "    <tr>\n",
       "      <th>shoe_width</th>\n",
       "      <th></th>\n",
       "      <th></th>\n",
       "      <th></th>\n",
       "      <th></th>\n",
       "      <th></th>\n",
       "      <th></th>\n",
       "      <th></th>\n",
       "      <th></th>\n",
       "      <th></th>\n",
       "      <th></th>\n",
       "      <th></th>\n",
       "      <th></th>\n",
       "      <th></th>\n",
       "      <th></th>\n",
       "      <th></th>\n",
       "      <th></th>\n",
       "      <th></th>\n",
       "      <th></th>\n",
       "      <th></th>\n",
       "      <th></th>\n",
       "      <th></th>\n",
       "    </tr>\n",
       "  </thead>\n",
       "  <tbody>\n",
       "    <tr>\n",
       "      <th>average</th>\n",
       "      <td>9</td>\n",
       "      <td>0</td>\n",
       "      <td>0</td>\n",
       "      <td>2</td>\n",
       "      <td>2</td>\n",
       "      <td>12</td>\n",
       "      <td>2</td>\n",
       "      <td>9</td>\n",
       "      <td>0</td>\n",
       "      <td>6</td>\n",
       "      <td>...</td>\n",
       "      <td>6</td>\n",
       "      <td>0</td>\n",
       "      <td>9</td>\n",
       "      <td>5</td>\n",
       "      <td>20</td>\n",
       "      <td>10</td>\n",
       "      <td>0</td>\n",
       "      <td>0</td>\n",
       "      <td>0</td>\n",
       "      <td>17</td>\n",
       "    </tr>\n",
       "    <tr>\n",
       "      <th>narrow</th>\n",
       "      <td>0</td>\n",
       "      <td>3</td>\n",
       "      <td>3</td>\n",
       "      <td>1</td>\n",
       "      <td>2</td>\n",
       "      <td>2</td>\n",
       "      <td>2</td>\n",
       "      <td>0</td>\n",
       "      <td>2</td>\n",
       "      <td>0</td>\n",
       "      <td>...</td>\n",
       "      <td>2</td>\n",
       "      <td>0</td>\n",
       "      <td>1</td>\n",
       "      <td>0</td>\n",
       "      <td>4</td>\n",
       "      <td>0</td>\n",
       "      <td>2</td>\n",
       "      <td>2</td>\n",
       "      <td>2</td>\n",
       "      <td>0</td>\n",
       "    </tr>\n",
       "    <tr>\n",
       "      <th>wide</th>\n",
       "      <td>0</td>\n",
       "      <td>0</td>\n",
       "      <td>0</td>\n",
       "      <td>4</td>\n",
       "      <td>0</td>\n",
       "      <td>5</td>\n",
       "      <td>1</td>\n",
       "      <td>2</td>\n",
       "      <td>0</td>\n",
       "      <td>8</td>\n",
       "      <td>...</td>\n",
       "      <td>4</td>\n",
       "      <td>4</td>\n",
       "      <td>2</td>\n",
       "      <td>5</td>\n",
       "      <td>9</td>\n",
       "      <td>2</td>\n",
       "      <td>0</td>\n",
       "      <td>0</td>\n",
       "      <td>0</td>\n",
       "      <td>2</td>\n",
       "    </tr>\n",
       "  </tbody>\n",
       "</table>\n",
       "<p>3 rows × 25 columns</p>\n",
       "</div>"
      ],
      "text/plain": [
       "review_summary  .  Great!  I LOVE this dress! It is  \\\n",
       "shoe_width                                            \n",
       "average         9       0                         0   \n",
       "narrow          0       3                         3   \n",
       "wide            0       0                         0   \n",
       "\n",
       "review_summary  I absolutely LOVE this dr  I absolutely adore this d  \\\n",
       "shoe_width                                                             \n",
       "average                                 2                          2   \n",
       "narrow                                  1                          2   \n",
       "wide                                    4                          0   \n",
       "\n",
       "review_summary  I absolutely love this dr  I absolutely love this sh  \\\n",
       "shoe_width                                                             \n",
       "average                                12                          2   \n",
       "narrow                                  2                          2   \n",
       "wide                                    5                          1   \n",
       "\n",
       "review_summary  I bought this dress for m  I don't think of this as  \\\n",
       "shoe_width                                                            \n",
       "average                                 9                         0   \n",
       "narrow                                  0                         2   \n",
       "wide                                    2                         0   \n",
       "\n",
       "review_summary  I get so many compliments  ...  I wanted to love this dre  \\\n",
       "shoe_width                                 ...                              \n",
       "average                                 6  ...                          6   \n",
       "narrow                                  0  ...                          2   \n",
       "wide                                    8  ...                          4   \n",
       "\n",
       "review_summary  I'm only a few cardis awa  Love  Love it  Love it!  \\\n",
       "shoe_width                                                           \n",
       "average                                 0     9        5        20   \n",
       "narrow                                  0     1        0         4   \n",
       "wide                                    4     2        5         9   \n",
       "\n",
       "review_summary  Love this dress!  My favorite cardigan! It  Perfect as usual  \\\n",
       "shoe_width                                                                     \n",
       "average                       10                         0                 0   \n",
       "narrow                         0                         2                 2   \n",
       "wide                           2                         0                 0   \n",
       "\n",
       "review_summary  This dress is perfect. Th  This is one of my favorit  \n",
       "shoe_width                                                            \n",
       "average                                 0                         17  \n",
       "narrow                                  2                          0  \n",
       "wide                                    0                          2  \n",
       "\n",
       "[3 rows x 25 columns]"
      ]
     },
     "execution_count": 19,
     "metadata": {},
     "output_type": "execute_result"
    }
   ],
   "source": [
    "contingency_table = pd.crosstab(df4['shoe_width'], df4['review_summary'])\n",
    "contingency_table"
   ]
  },
  {
   "cell_type": "code",
   "execution_count": 20,
   "metadata": {},
   "outputs": [
    {
     "name": "stdout",
     "output_type": "stream",
     "text": [
      "Test Statistic: 167.21140727681504\n",
      "P-value: 4.232151371127892e-15\n"
     ]
    }
   ],
   "source": [
    "chi, p_value, dof, expected = chi2_contingency(contingency_table)\n",
    "print('Test Statistic:',chi)\n",
    "print('P-value:',p_value)"
   ]
  },
  {
   "cell_type": "markdown",
   "metadata": {},
   "source": [
    "#### Even for significance level of 1%, P-value is too small hence we can reject $H_0$. That means there is enough statistical evidence to conclude that 'shoe_width' and 'review_summary' features have a relation with each other."
   ]
  },
  {
   "cell_type": "markdown",
   "metadata": {},
   "source": [
    "---"
   ]
  },
  {
   "cell_type": "markdown",
   "metadata": {},
   "source": [
    "### 5. Check if the length feature affects the review summary with a 95% confidence interval."
   ]
  },
  {
   "cell_type": "markdown",
   "metadata": {},
   "source": [
    "#### We will be using Chi-Square Test for Independence to find if there's any relationship between the features."
   ]
  },
  {
   "cell_type": "markdown",
   "metadata": {},
   "source": [
    "#### Null and Alternate Hypotheses :-\n",
    "> $H_0$ : 'Length' and 'Review Summary' are independent of each other.\n",
    "\n",
    "> $H_a$ : 'Length' and 'Review Summary' are dependent of each other."
   ]
  },
  {
   "cell_type": "markdown",
   "metadata": {},
   "source": [
    "#### We will downsize the reviews summary by taking Top 10 review summaries for each length so that the contingency table is not big (Dimensionality Reduction)"
   ]
  },
  {
   "cell_type": "code",
   "execution_count": 21,
   "metadata": {},
   "outputs": [],
   "source": [
    "# Removing Missing records from columns\n",
    "df5 = df.dropna(subset=['review_summary'])"
   ]
  },
  {
   "cell_type": "code",
   "execution_count": 22,
   "metadata": {},
   "outputs": [],
   "source": [
    "top10_review_summaries = []\n",
    "for i in df3['length'].unique():\n",
    "    for j in range(10):\n",
    "        top10_review_summaries.append(df3[df3['length'] == i]['review_summary'].value_counts().head(10).index[j])\n",
    "\n",
    "# Removing Dulpicates from list\n",
    "top10_review_summaries = list(set(top10_review_summaries))\n",
    "# print(top10_review_summaries)"
   ]
  },
  {
   "cell_type": "code",
   "execution_count": 23,
   "metadata": {},
   "outputs": [
    {
     "data": {
      "text/plain": [
       "(1115, 16)"
      ]
     },
     "execution_count": 23,
     "metadata": {},
     "output_type": "execute_result"
    }
   ],
   "source": [
    "df6 = df5[df5['review_summary'].isin(top10_review_summaries)]\n",
    "df6.shape"
   ]
  },
  {
   "cell_type": "code",
   "execution_count": 24,
   "metadata": {},
   "outputs": [
    {
     "data": {
      "text/html": [
       "<div>\n",
       "<style scoped>\n",
       "    .dataframe tbody tr th:only-of-type {\n",
       "        vertical-align: middle;\n",
       "    }\n",
       "\n",
       "    .dataframe tbody tr th {\n",
       "        vertical-align: top;\n",
       "    }\n",
       "\n",
       "    .dataframe thead th {\n",
       "        text-align: right;\n",
       "    }\n",
       "</style>\n",
       "<table border=\"1\" class=\"dataframe\">\n",
       "  <thead>\n",
       "    <tr style=\"text-align: right;\">\n",
       "      <th>review_summary</th>\n",
       "      <th>#Review ContestAlthough t</th>\n",
       "      <th>Ehhhh...</th>\n",
       "      <th>Had to send it back. Supe</th>\n",
       "      <th>I absolutely love this dr</th>\n",
       "      <th>I absolutely love this sk</th>\n",
       "      <th>I absolutely love this ta</th>\n",
       "      <th>I am short so it's a litt</th>\n",
       "      <th>I don't know what all the</th>\n",
       "      <th>I get so many compliments</th>\n",
       "      <th>I just do not understand</th>\n",
       "      <th>...</th>\n",
       "      <th>Perfect!</th>\n",
       "      <th>Size is a joke</th>\n",
       "      <th>Style is very cute. I fel</th>\n",
       "      <th>The material of this dres</th>\n",
       "      <th>These pants are really cu</th>\n",
       "      <th>This is a great basic car</th>\n",
       "      <th>This is one of my favorit</th>\n",
       "      <th>Very long on my 5'2 frame</th>\n",
       "      <th>Very short inseam, built for pear shapes</th>\n",
       "      <th>Zoiks! Very weird fit, ki</th>\n",
       "    </tr>\n",
       "    <tr>\n",
       "      <th>length</th>\n",
       "      <th></th>\n",
       "      <th></th>\n",
       "      <th></th>\n",
       "      <th></th>\n",
       "      <th></th>\n",
       "      <th></th>\n",
       "      <th></th>\n",
       "      <th></th>\n",
       "      <th></th>\n",
       "      <th></th>\n",
       "      <th></th>\n",
       "      <th></th>\n",
       "      <th></th>\n",
       "      <th></th>\n",
       "      <th></th>\n",
       "      <th></th>\n",
       "      <th></th>\n",
       "      <th></th>\n",
       "      <th></th>\n",
       "      <th></th>\n",
       "      <th></th>\n",
       "    </tr>\n",
       "  </thead>\n",
       "  <tbody>\n",
       "    <tr>\n",
       "      <th>just right</th>\n",
       "      <td>0</td>\n",
       "      <td>0</td>\n",
       "      <td>0</td>\n",
       "      <td>105</td>\n",
       "      <td>32</td>\n",
       "      <td>0</td>\n",
       "      <td>0</td>\n",
       "      <td>0</td>\n",
       "      <td>64</td>\n",
       "      <td>0</td>\n",
       "      <td>...</td>\n",
       "      <td>64</td>\n",
       "      <td>0</td>\n",
       "      <td>0</td>\n",
       "      <td>5</td>\n",
       "      <td>0</td>\n",
       "      <td>0</td>\n",
       "      <td>69</td>\n",
       "      <td>0</td>\n",
       "      <td>0</td>\n",
       "      <td>0</td>\n",
       "    </tr>\n",
       "    <tr>\n",
       "      <th>slightly long</th>\n",
       "      <td>0</td>\n",
       "      <td>0</td>\n",
       "      <td>0</td>\n",
       "      <td>6</td>\n",
       "      <td>10</td>\n",
       "      <td>3</td>\n",
       "      <td>3</td>\n",
       "      <td>0</td>\n",
       "      <td>1</td>\n",
       "      <td>0</td>\n",
       "      <td>...</td>\n",
       "      <td>3</td>\n",
       "      <td>0</td>\n",
       "      <td>0</td>\n",
       "      <td>2</td>\n",
       "      <td>1</td>\n",
       "      <td>0</td>\n",
       "      <td>8</td>\n",
       "      <td>0</td>\n",
       "      <td>0</td>\n",
       "      <td>0</td>\n",
       "    </tr>\n",
       "    <tr>\n",
       "      <th>slightly short</th>\n",
       "      <td>0</td>\n",
       "      <td>0</td>\n",
       "      <td>0</td>\n",
       "      <td>10</td>\n",
       "      <td>1</td>\n",
       "      <td>0</td>\n",
       "      <td>0</td>\n",
       "      <td>2</td>\n",
       "      <td>4</td>\n",
       "      <td>0</td>\n",
       "      <td>...</td>\n",
       "      <td>1</td>\n",
       "      <td>0</td>\n",
       "      <td>0</td>\n",
       "      <td>3</td>\n",
       "      <td>0</td>\n",
       "      <td>2</td>\n",
       "      <td>4</td>\n",
       "      <td>0</td>\n",
       "      <td>0</td>\n",
       "      <td>0</td>\n",
       "    </tr>\n",
       "    <tr>\n",
       "      <th>very long</th>\n",
       "      <td>1</td>\n",
       "      <td>0</td>\n",
       "      <td>0</td>\n",
       "      <td>1</td>\n",
       "      <td>0</td>\n",
       "      <td>0</td>\n",
       "      <td>0</td>\n",
       "      <td>0</td>\n",
       "      <td>2</td>\n",
       "      <td>2</td>\n",
       "      <td>...</td>\n",
       "      <td>1</td>\n",
       "      <td>0</td>\n",
       "      <td>0</td>\n",
       "      <td>0</td>\n",
       "      <td>0</td>\n",
       "      <td>0</td>\n",
       "      <td>1</td>\n",
       "      <td>2</td>\n",
       "      <td>0</td>\n",
       "      <td>0</td>\n",
       "    </tr>\n",
       "    <tr>\n",
       "      <th>very short</th>\n",
       "      <td>0</td>\n",
       "      <td>1</td>\n",
       "      <td>1</td>\n",
       "      <td>2</td>\n",
       "      <td>0</td>\n",
       "      <td>0</td>\n",
       "      <td>0</td>\n",
       "      <td>0</td>\n",
       "      <td>0</td>\n",
       "      <td>0</td>\n",
       "      <td>...</td>\n",
       "      <td>0</td>\n",
       "      <td>1</td>\n",
       "      <td>1</td>\n",
       "      <td>1</td>\n",
       "      <td>1</td>\n",
       "      <td>0</td>\n",
       "      <td>1</td>\n",
       "      <td>0</td>\n",
       "      <td>1</td>\n",
       "      <td>1</td>\n",
       "    </tr>\n",
       "  </tbody>\n",
       "</table>\n",
       "<p>5 rows × 44 columns</p>\n",
       "</div>"
      ],
      "text/plain": [
       "review_summary  #Review ContestAlthough t  Ehhhh...  \\\n",
       "length                                                \n",
       "just right                              0         0   \n",
       "slightly long                           0         0   \n",
       "slightly short                          0         0   \n",
       "very long                               1         0   \n",
       "very short                              0         1   \n",
       "\n",
       "review_summary  Had to send it back. Supe  I absolutely love this dr  \\\n",
       "length                                                                 \n",
       "just right                              0                        105   \n",
       "slightly long                           0                          6   \n",
       "slightly short                          0                         10   \n",
       "very long                               0                          1   \n",
       "very short                              1                          2   \n",
       "\n",
       "review_summary  I absolutely love this sk  I absolutely love this ta  \\\n",
       "length                                                                 \n",
       "just right                             32                          0   \n",
       "slightly long                          10                          3   \n",
       "slightly short                          1                          0   \n",
       "very long                               0                          0   \n",
       "very short                              0                          0   \n",
       "\n",
       "review_summary  I am short so it's a litt  I don't know what all the  \\\n",
       "length                                                                 \n",
       "just right                              0                          0   \n",
       "slightly long                           3                          0   \n",
       "slightly short                          0                          2   \n",
       "very long                               0                          0   \n",
       "very short                              0                          0   \n",
       "\n",
       "review_summary  I get so many compliments  I just do not understand  ...  \\\n",
       "length                                                               ...   \n",
       "just right                             64                         0  ...   \n",
       "slightly long                           1                         0  ...   \n",
       "slightly short                          4                         0  ...   \n",
       "very long                               2                         2  ...   \n",
       "very short                              0                         0  ...   \n",
       "\n",
       "review_summary  Perfect!  Size is a joke  Style is very cute. I fel  \\\n",
       "length                                                                \n",
       "just right            64               0                          0   \n",
       "slightly long          3               0                          0   \n",
       "slightly short         1               0                          0   \n",
       "very long              1               0                          0   \n",
       "very short             0               1                          1   \n",
       "\n",
       "review_summary  The material of this dres  These pants are really cu  \\\n",
       "length                                                                 \n",
       "just right                              5                          0   \n",
       "slightly long                           2                          1   \n",
       "slightly short                          3                          0   \n",
       "very long                               0                          0   \n",
       "very short                              1                          1   \n",
       "\n",
       "review_summary  This is a great basic car  This is one of my favorit  \\\n",
       "length                                                                 \n",
       "just right                              0                         69   \n",
       "slightly long                           0                          8   \n",
       "slightly short                          2                          4   \n",
       "very long                               0                          1   \n",
       "very short                              0                          1   \n",
       "\n",
       "review_summary  Very long on my 5'2 frame  \\\n",
       "length                                      \n",
       "just right                              0   \n",
       "slightly long                           0   \n",
       "slightly short                          0   \n",
       "very long                               2   \n",
       "very short                              0   \n",
       "\n",
       "review_summary  Very short inseam, built for pear shapes  \\\n",
       "length                                                     \n",
       "just right                                             0   \n",
       "slightly long                                          0   \n",
       "slightly short                                         0   \n",
       "very long                                              0   \n",
       "very short                                             1   \n",
       "\n",
       "review_summary  Zoiks! Very weird fit, ki  \n",
       "length                                     \n",
       "just right                              0  \n",
       "slightly long                           0  \n",
       "slightly short                          0  \n",
       "very long                               0  \n",
       "very short                              1  \n",
       "\n",
       "[5 rows x 44 columns]"
      ]
     },
     "execution_count": 24,
     "metadata": {},
     "output_type": "execute_result"
    }
   ],
   "source": [
    "contingency_table = pd.crosstab(df6['length'], df6['review_summary'])\n",
    "contingency_table"
   ]
  },
  {
   "cell_type": "code",
   "execution_count": 25,
   "metadata": {},
   "outputs": [
    {
     "name": "stdout",
     "output_type": "stream",
     "text": [
      "Test Statistic: 1091.7205017728893\n",
      "P-value: 1.6269214122299915e-133\n"
     ]
    }
   ],
   "source": [
    "chi, p_value, dof, expected = chi2_contingency(contingency_table)\n",
    "print('Test Statistic:',chi)\n",
    "print('P-value:',p_value)"
   ]
  },
  {
   "cell_type": "markdown",
   "metadata": {},
   "source": [
    "#### As P-value is way less than 5% significance level, we can reject $H_0$. That means there is enough statistical evidence to claim that 'length' and 'review_summary' have a relation with each other. "
   ]
  },
  {
   "cell_type": "markdown",
   "metadata": {},
   "source": [
    "---"
   ]
  },
  {
   "cell_type": "markdown",
   "metadata": {},
   "source": [
    "### 6. Does the average quality significantly differ for the different fits? Kindly test the relevant hypothesis test by having 0.05 alpha. Check the normality of the data before the above test. Alpha = 0.05"
   ]
  },
  {
   "cell_type": "markdown",
   "metadata": {},
   "source": [
    "#### We can perform Multiple Comparison test (Tukey HSD) test for this"
   ]
  },
  {
   "cell_type": "markdown",
   "metadata": {},
   "source": [
    "#### Let $\\mu_1, \\mu_2, \\mu_3$ be the means of quality for each fit."
   ]
  },
  {
   "cell_type": "markdown",
   "metadata": {},
   "source": [
    "#### Null and Alternate Hypotheses :-\n",
    "> $H_0 : \\mu_{1}=\\mu_{2} \\text{ }\\text{and}\\text{ } \\mu_{2}=\\mu_{3} \\text{ }\\text{and}\\text{ } \\mu_{3}=\\mu_{1}$\n",
    "\n",
    "> $H_a : \\mu_{1}\\neq\\mu_{2} \\text{ }\\text{or}\\text{ } \\mu_{2}\\neq\\mu_{3} \\text{ }\\text{or}\\text{ } \\mu_{3}\\neq\\mu_{1}$"
   ]
  },
  {
   "cell_type": "markdown",
   "metadata": {},
   "source": [
    "#### Performing Normality Test on 'quality' column: "
   ]
  },
  {
   "cell_type": "code",
   "execution_count": 26,
   "metadata": {},
   "outputs": [
    {
     "data": {
      "image/png": "[encoded data removed]",
      "text/plain": [
       "<Figure size 800x600 with 1 Axes>"
      ]
     },
     "metadata": {},
     "output_type": "display_data"
    },
    {
     "name": "stdout",
     "output_type": "stream",
     "text": [
      "Shapiro-Wilk test p-value: 0.0\n",
      "The data does not follow a normal distribution.\n"
     ]
    }
   ],
   "source": [
    "plt.figure(figsize=(8, 6))\n",
    "probplot(df['quality'], dist=\"norm\", plot=plt)\n",
    "plt.title(\"Q-Q Plot of Quality\")\n",
    "plt.show()\n",
    "\n",
    "# Shapiro-Wilk test for normality\n",
    "stat, p_value = shapiro(df['quality'])\n",
    "\n",
    "alpha = 0.05\n",
    "print(f\"Shapiro-Wilk test p-value: {p_value}\")\n",
    "\n",
    "if p_value < alpha:\n",
    "    print(\"The data does not follow a normal distribution.\")\n",
    "else:\n",
    "    print(\"The data follows a normal distribution.\")"
   ]
  },
  {
   "cell_type": "markdown",
   "metadata": {},
   "source": [
    "#### Data doesn't follow Normal Distribution. But let's proceed..."
   ]
  },
  {
   "cell_type": "code",
   "execution_count": 27,
   "metadata": {},
   "outputs": [
    {
     "data": {
      "text/plain": [
       "fit\n",
       "fit      4.083058\n",
       "large    3.828640\n",
       "small    3.483761\n",
       "Name: quality, dtype: float64"
      ]
     },
     "execution_count": 27,
     "metadata": {},
     "output_type": "execute_result"
    }
   ],
   "source": [
    "df.groupby('fit')['quality'].mean()"
   ]
  },
  {
   "cell_type": "code",
   "execution_count": 28,
   "metadata": {},
   "outputs": [
    {
     "data": {
      "image/png": "[encoded data removed]",
      "text/plain": [
       "<Figure size 640x480 with 1 Axes>"
      ]
     },
     "metadata": {},
     "output_type": "display_data"
    }
   ],
   "source": [
    "sns.boxplot(df1, x='fit', y='quality', hue='fit')\n",
    "plt.title('Quality w.r.t. Fit (3 levels)')\n",
    "plt.show()"
   ]
  },
  {
   "cell_type": "markdown",
   "metadata": {},
   "source": [
    "#### Means for samples look close but not almost same. Let's perform the test"
   ]
  },
  {
   "cell_type": "code",
   "execution_count": 29,
   "metadata": {},
   "outputs": [
    {
     "name": "stdout",
     "output_type": "stream",
     "text": [
      "Multiple Comparison of Means - Tukey HSD, FWER=0.05\n",
      "===================================================\n",
      "group1 group2 meandiff p-adj  lower   upper  reject\n",
      "---------------------------------------------------\n",
      "   fit  large  -0.2544   0.0 -0.2765 -0.2324   True\n",
      "   fit  small  -0.5993   0.0 -0.6214 -0.5772   True\n",
      " large  small  -0.3449   0.0 -0.3731 -0.3167   True\n",
      "---------------------------------------------------\n"
     ]
    }
   ],
   "source": [
    "m_comp = pairwise_tukeyhsd(endog = df['quality'], groups = df['fit'], alpha = 0.05)\n",
    "print(m_comp)"
   ]
  },
  {
   "cell_type": "markdown",
   "metadata": {},
   "source": [
    "#### This means that the average quality for each fit is different from the other. "
   ]
  }
 ],
 "metadata": {
  "kernelspec": {
   "display_name": "Python 3",
   "language": "python",
   "name": "python3"
  },
  "language_info": {
   "codemirror_mode": {
    "name": "ipython",
    "version": 3
   },
   "file_extension": ".py",
   "mimetype": "text/x-python",
   "name": "python",
   "nbconvert_exporter": "python",
   "pygments_lexer": "ipython3",
   "version": "3.12.0"
  }
 },
 "nbformat": 4,
 "nbformat_minor": 2
}
